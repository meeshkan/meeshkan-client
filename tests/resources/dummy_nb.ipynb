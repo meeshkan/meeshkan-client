{
 "cells": [
  {
   "cell_type": "code",
   "execution_count": 1,
   "metadata": {},
   "outputs": [],
   "source": [
    "%load_ext autoreload  # Have some magic functions to convert\n",
    "%autoreload 2\n",
    "import numpy as np  # Some non-standard library\n",
    "import non-existing-module  # Shouldn't fail anyway"
   ]
  },
  {
   "cell_type": "code",
   "execution_count": 2,
   "metadata": {},
   "outputs": [],
   "source": [
    "plus_one = True"
   ]
  },
  {
   "cell_type": "code",
   "execution_count": 3,
   "metadata": {},
   "outputs": [],
   "source": [
    "def add(*args):  # Some bogus function here\n",
    "    global add_result\n",
    "    add_result = 0\n",
    "    if not args:\n",
    "        args = sys.argv[1:]\n",
    "    for val in args:\n",
    "        add_result += int(val)\n",
    "    if plus_one:\n",
    "        add_result += 1\n",
    "    print(add_result)"
   ]
  },
  {
   "cell_type": "code",
   "execution_count": 4,
   "metadata": {
    "scrolled": false
   },
   "outputs": [],
   "source": [
    "add(*['3', '5', '1'])"
   ]
  },
  {
   "cell_type": "code",
   "execution_count": 1,
   "metadata": {},
   "outputs": [],
   "source": [
    "files = !ls  # Some more magic stuff"
   ]
  }
 ],
 "metadata": {
  "kernelspec": {
   "display_name": "spam",
   "language": "python",
   "name": "foobar"
  },
  "language_info": {
   "codemirror_mode": {
    "name": "ipython",
    "version": 3
   },
   "file_extension": ".py",
   "mimetype": "text/x-python",
   "name": "python",
   "nbconvert_exporter": "python",
   "pygments_lexer": "ipython3",
   "version": "3.7"
  }
 },
 "nbformat": 4,
 "nbformat_minor": 2
}
