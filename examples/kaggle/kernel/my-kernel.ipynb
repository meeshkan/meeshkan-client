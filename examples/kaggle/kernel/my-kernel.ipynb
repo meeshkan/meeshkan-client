{
 "cells": [
  {
   "cell_type": "code",
   "execution_count": 3,
   "metadata": {},
   "outputs": [],
   "source": [
    "import os"
   ]
  },
  {
   "cell_type": "code",
   "execution_count": 4,
   "metadata": {},
   "outputs": [
    {
     "name": "stdout",
     "output_type": "stream",
     "text": [
      "['test_images', 'breed_labels.csv', 'test_metadata.zip', 'test_images.zip', 'test', 'train_images.zip', 'train_metadata', 'color_labels.csv', 'test_sentiment', '.gitkeep', 'test_metadata', 'test.zip', 'train_sentiment', 'test_sentiment.zip', 'train_sentiment.zip', 'train', 'filename_without_extension', 'train_metadata.zip', 'train_images', 'state_labels.csv', 'train.zip']\n"
     ]
    }
   ],
   "source": [
    "print(os.listdir(\"../input\"))"
   ]
  },
  {
   "cell_type": "code",
   "execution_count": null,
   "metadata": {},
   "outputs": [],
   "source": []
  }
 ],
 "metadata": {
  "kernelspec": {
   "display_name": "Python 3",
   "language": "python",
   "name": "python3"
  },
  "language_info": {
   "codemirror_mode": {
    "name": "ipython",
    "version": 3
   },
   "file_extension": ".py",
   "mimetype": "text/x-python",
   "name": "python",
   "nbconvert_exporter": "python",
   "pygments_lexer": "ipython3",
   "version": "3.6.5"
  }
 },
 "nbformat": 4,
 "nbformat_minor": 2
}
