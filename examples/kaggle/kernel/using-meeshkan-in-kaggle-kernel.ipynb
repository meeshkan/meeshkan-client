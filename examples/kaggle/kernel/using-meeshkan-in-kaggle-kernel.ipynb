{
 "cells": [
  {
   "cell_type": "markdown",
   "metadata": {},
   "source": [
    "# Using Meeshkan for developing Kaggle kernels\n",
    "For a full example of how to, for example, submit kernels from the command-line, see the example page in [GitHub](https://github.com/Meeshkan/meeshkan-client/tree/kaggle-kernel-example/examples/kaggle)."
   ]
  },
  {
   "cell_type": "markdown",
   "metadata": {},
   "source": [
    "### Install dependencies"
   ]
  },
  {
   "cell_type": "code",
   "execution_count": 1,
   "metadata": {},
   "outputs": [
    {
     "name": "stdout",
     "output_type": "stream",
     "text": [
      "Requirement already satisfied: keras in /Users/kimmo/.pyenv/versions/3.6.5/envs/kaggle-3.6.5/lib/python3.6/site-packages (2.2.4)\n",
      "Requirement already satisfied: tensorflow in /Users/kimmo/.pyenv/versions/3.6.5/envs/kaggle-3.6.5/lib/python3.6/site-packages (1.12.0)\n",
      "Requirement already satisfied: meeshkan in /Users/kimmo/.pyenv/versions/3.6.5/envs/kaggle-3.6.5/lib/python3.6/site-packages (0.1.5)\n",
      "Requirement already satisfied: h5py in /Users/kimmo/.pyenv/versions/3.6.5/envs/kaggle-3.6.5/lib/python3.6/site-packages (from keras) (2.9.0)\n",
      "Requirement already satisfied: keras-applications>=1.0.6 in /Users/kimmo/.pyenv/versions/3.6.5/envs/kaggle-3.6.5/lib/python3.6/site-packages (from keras) (1.0.6)\n",
      "Requirement already satisfied: keras-preprocessing>=1.0.5 in /Users/kimmo/.pyenv/versions/3.6.5/envs/kaggle-3.6.5/lib/python3.6/site-packages (from keras) (1.0.5)\n",
      "Requirement already satisfied: scipy>=0.14 in /Users/kimmo/.pyenv/versions/3.6.5/envs/kaggle-3.6.5/lib/python3.6/site-packages (from keras) (1.2.0)\n",
      "Requirement already satisfied: six>=1.9.0 in /Users/kimmo/.pyenv/versions/3.6.5/envs/kaggle-3.6.5/lib/python3.6/site-packages (from keras) (1.12.0)\n",
      "Requirement already satisfied: numpy>=1.9.1 in /Users/kimmo/.pyenv/versions/3.6.5/envs/kaggle-3.6.5/lib/python3.6/site-packages (from keras) (1.16.0)\n",
      "Requirement already satisfied: pyyaml in /Users/kimmo/.pyenv/versions/3.6.5/envs/kaggle-3.6.5/lib/python3.6/site-packages (from keras) (3.13)\n",
      "Requirement already satisfied: grpcio>=1.8.6 in /Users/kimmo/.pyenv/versions/3.6.5/envs/kaggle-3.6.5/lib/python3.6/site-packages (from tensorflow) (1.18.0)\n",
      "Requirement already satisfied: wheel>=0.26 in /Users/kimmo/.pyenv/versions/3.6.5/envs/kaggle-3.6.5/lib/python3.6/site-packages (from tensorflow) (0.32.3)\n",
      "Requirement already satisfied: termcolor>=1.1.0 in /Users/kimmo/.pyenv/versions/3.6.5/envs/kaggle-3.6.5/lib/python3.6/site-packages (from tensorflow) (1.1.0)\n",
      "Requirement already satisfied: astor>=0.6.0 in /Users/kimmo/.pyenv/versions/3.6.5/envs/kaggle-3.6.5/lib/python3.6/site-packages (from tensorflow) (0.7.1)\n",
      "Requirement already satisfied: protobuf>=3.6.1 in /Users/kimmo/.pyenv/versions/3.6.5/envs/kaggle-3.6.5/lib/python3.6/site-packages (from tensorflow) (3.6.1)\n",
      "Requirement already satisfied: absl-py>=0.1.6 in /Users/kimmo/.pyenv/versions/3.6.5/envs/kaggle-3.6.5/lib/python3.6/site-packages (from tensorflow) (0.7.0)\n",
      "Requirement already satisfied: tensorboard<1.13.0,>=1.12.0 in /Users/kimmo/.pyenv/versions/3.6.5/envs/kaggle-3.6.5/lib/python3.6/site-packages (from tensorflow) (1.12.2)\n",
      "Requirement already satisfied: gast>=0.2.0 in /Users/kimmo/.pyenv/versions/3.6.5/envs/kaggle-3.6.5/lib/python3.6/site-packages (from tensorflow) (0.2.2)\n",
      "Requirement already satisfied: dill in /Users/kimmo/.pyenv/versions/3.6.5/envs/kaggle-3.6.5/lib/python3.6/site-packages (from meeshkan) (0.2.9)\n",
      "Requirement already satisfied: Pyro4 in /Users/kimmo/.pyenv/versions/3.6.5/envs/kaggle-3.6.5/lib/python3.6/site-packages (from meeshkan) (4.75)\n",
      "Requirement already satisfied: pandas in /Users/kimmo/.pyenv/versions/3.6.5/envs/kaggle-3.6.5/lib/python3.6/site-packages (from meeshkan) (0.24.0)\n",
      "Requirement already satisfied: matplotlib in /Users/kimmo/.pyenv/versions/3.6.5/envs/kaggle-3.6.5/lib/python3.6/site-packages (from meeshkan) (3.0.2)\n",
      "Requirement already satisfied: boto3 in /Users/kimmo/.pyenv/versions/3.6.5/envs/kaggle-3.6.5/lib/python3.6/site-packages (from meeshkan) (1.9.86)\n",
      "Requirement already satisfied: ipykernel in /Users/kimmo/.pyenv/versions/3.6.5/envs/kaggle-3.6.5/lib/python3.6/site-packages (from meeshkan) (5.1.0)\n",
      "Requirement already satisfied: Click in /Users/kimmo/.pyenv/versions/3.6.5/envs/kaggle-3.6.5/lib/python3.6/site-packages (from meeshkan) (7.0)\n",
      "Requirement already satisfied: nbconvert in /Users/kimmo/.pyenv/versions/3.6.5/envs/kaggle-3.6.5/lib/python3.6/site-packages (from meeshkan) (5.4.0)\n",
      "Requirement already satisfied: notebook in /Users/kimmo/.pyenv/versions/3.6.5/envs/kaggle-3.6.5/lib/python3.6/site-packages (from meeshkan) (5.7.4)\n",
      "Requirement already satisfied: tabulate in /Users/kimmo/.pyenv/versions/3.6.5/envs/kaggle-3.6.5/lib/python3.6/site-packages (from meeshkan) (0.8.3)\n",
      "Requirement already satisfied: requests<2.21 in /Users/kimmo/.pyenv/versions/3.6.5/envs/kaggle-3.6.5/lib/python3.6/site-packages (from meeshkan) (2.20.1)\n",
      "Requirement already satisfied: setuptools in /Users/kimmo/.pyenv/versions/3.6.5/envs/kaggle-3.6.5/lib/python3.6/site-packages (from protobuf>=3.6.1->tensorflow) (39.0.1)\n",
      "Requirement already satisfied: markdown>=2.6.8 in /Users/kimmo/.pyenv/versions/3.6.5/envs/kaggle-3.6.5/lib/python3.6/site-packages (from tensorboard<1.13.0,>=1.12.0->tensorflow) (3.0.1)\n",
      "Requirement already satisfied: werkzeug>=0.11.10 in /Users/kimmo/.pyenv/versions/3.6.5/envs/kaggle-3.6.5/lib/python3.6/site-packages (from tensorboard<1.13.0,>=1.12.0->tensorflow) (0.14.1)\n",
      "Requirement already satisfied: serpent>=1.27 in /Users/kimmo/.pyenv/versions/3.6.5/envs/kaggle-3.6.5/lib/python3.6/site-packages (from Pyro4->meeshkan) (1.27)\n",
      "Requirement already satisfied: pytz>=2011k in /Users/kimmo/.pyenv/versions/3.6.5/envs/kaggle-3.6.5/lib/python3.6/site-packages (from pandas->meeshkan) (2018.9)\n",
      "Requirement already satisfied: python-dateutil>=2.5.0 in /Users/kimmo/.pyenv/versions/3.6.5/envs/kaggle-3.6.5/lib/python3.6/site-packages (from pandas->meeshkan) (2.7.5)\n",
      "Requirement already satisfied: kiwisolver>=1.0.1 in /Users/kimmo/.pyenv/versions/3.6.5/envs/kaggle-3.6.5/lib/python3.6/site-packages (from matplotlib->meeshkan) (1.0.1)\n",
      "Requirement already satisfied: pyparsing!=2.0.4,!=2.1.2,!=2.1.6,>=2.0.1 in /Users/kimmo/.pyenv/versions/3.6.5/envs/kaggle-3.6.5/lib/python3.6/site-packages (from matplotlib->meeshkan) (2.3.1)\n",
      "Requirement already satisfied: cycler>=0.10 in /Users/kimmo/.pyenv/versions/3.6.5/envs/kaggle-3.6.5/lib/python3.6/site-packages (from matplotlib->meeshkan) (0.10.0)\n",
      "Requirement already satisfied: s3transfer<0.2.0,>=0.1.10 in /Users/kimmo/.pyenv/versions/3.6.5/envs/kaggle-3.6.5/lib/python3.6/site-packages (from boto3->meeshkan) (0.1.13)\n",
      "Requirement already satisfied: jmespath<1.0.0,>=0.7.1 in /Users/kimmo/.pyenv/versions/3.6.5/envs/kaggle-3.6.5/lib/python3.6/site-packages (from boto3->meeshkan) (0.9.3)\n",
      "Requirement already satisfied: botocore<1.13.0,>=1.12.86 in /Users/kimmo/.pyenv/versions/3.6.5/envs/kaggle-3.6.5/lib/python3.6/site-packages (from boto3->meeshkan) (1.12.86)\n",
      "Requirement already satisfied: jupyter-client in /Users/kimmo/.pyenv/versions/3.6.5/envs/kaggle-3.6.5/lib/python3.6/site-packages (from ipykernel->meeshkan) (5.2.4)\n",
      "Requirement already satisfied: ipython>=5.0.0 in /Users/kimmo/.pyenv/versions/3.6.5/envs/kaggle-3.6.5/lib/python3.6/site-packages (from ipykernel->meeshkan) (7.2.0)\n",
      "Requirement already satisfied: tornado>=4.2 in /Users/kimmo/.pyenv/versions/3.6.5/envs/kaggle-3.6.5/lib/python3.6/site-packages (from ipykernel->meeshkan) (5.1.1)\n",
      "Requirement already satisfied: traitlets>=4.1.0 in /Users/kimmo/.pyenv/versions/3.6.5/envs/kaggle-3.6.5/lib/python3.6/site-packages (from ipykernel->meeshkan) (4.3.2)\n",
      "Requirement already satisfied: entrypoints>=0.2.2 in /Users/kimmo/.pyenv/versions/3.6.5/envs/kaggle-3.6.5/lib/python3.6/site-packages (from nbconvert->meeshkan) (0.3)\n",
      "Requirement already satisfied: jinja2 in /Users/kimmo/.pyenv/versions/3.6.5/envs/kaggle-3.6.5/lib/python3.6/site-packages (from nbconvert->meeshkan) (2.10)\n",
      "Requirement already satisfied: defusedxml in /Users/kimmo/.pyenv/versions/3.6.5/envs/kaggle-3.6.5/lib/python3.6/site-packages (from nbconvert->meeshkan) (0.5.0)\n",
      "Requirement already satisfied: pygments in /Users/kimmo/.pyenv/versions/3.6.5/envs/kaggle-3.6.5/lib/python3.6/site-packages (from nbconvert->meeshkan) (2.3.1)\n",
      "Requirement already satisfied: nbformat>=4.4 in /Users/kimmo/.pyenv/versions/3.6.5/envs/kaggle-3.6.5/lib/python3.6/site-packages (from nbconvert->meeshkan) (4.4.0)\n",
      "Requirement already satisfied: testpath in /Users/kimmo/.pyenv/versions/3.6.5/envs/kaggle-3.6.5/lib/python3.6/site-packages (from nbconvert->meeshkan) (0.4.2)\n",
      "Requirement already satisfied: bleach in /Users/kimmo/.pyenv/versions/3.6.5/envs/kaggle-3.6.5/lib/python3.6/site-packages (from nbconvert->meeshkan) (3.1.0)\n",
      "Requirement already satisfied: pandocfilters>=1.4.1 in /Users/kimmo/.pyenv/versions/3.6.5/envs/kaggle-3.6.5/lib/python3.6/site-packages (from nbconvert->meeshkan) (1.4.2)\n",
      "Requirement already satisfied: jupyter-core in /Users/kimmo/.pyenv/versions/3.6.5/envs/kaggle-3.6.5/lib/python3.6/site-packages (from nbconvert->meeshkan) (4.4.0)\n",
      "Requirement already satisfied: mistune>=0.8.1 in /Users/kimmo/.pyenv/versions/3.6.5/envs/kaggle-3.6.5/lib/python3.6/site-packages (from nbconvert->meeshkan) (0.8.4)\n"
     ]
    },
    {
     "name": "stdout",
     "output_type": "stream",
     "text": [
      "Requirement already satisfied: ipython-genutils in /Users/kimmo/.pyenv/versions/3.6.5/envs/kaggle-3.6.5/lib/python3.6/site-packages (from notebook->meeshkan) (0.2.0)\n",
      "Requirement already satisfied: pyzmq>=17 in /Users/kimmo/.pyenv/versions/3.6.5/envs/kaggle-3.6.5/lib/python3.6/site-packages (from notebook->meeshkan) (17.1.2)\n",
      "Requirement already satisfied: terminado>=0.8.1 in /Users/kimmo/.pyenv/versions/3.6.5/envs/kaggle-3.6.5/lib/python3.6/site-packages (from notebook->meeshkan) (0.8.1)\n",
      "Requirement already satisfied: prometheus-client in /Users/kimmo/.pyenv/versions/3.6.5/envs/kaggle-3.6.5/lib/python3.6/site-packages (from notebook->meeshkan) (0.5.0)\n",
      "Requirement already satisfied: Send2Trash in /Users/kimmo/.pyenv/versions/3.6.5/envs/kaggle-3.6.5/lib/python3.6/site-packages (from notebook->meeshkan) (1.5.0)\n",
      "Requirement already satisfied: urllib3<1.25,>=1.21.1 in /Users/kimmo/.pyenv/versions/3.6.5/envs/kaggle-3.6.5/lib/python3.6/site-packages (from requests<2.21->meeshkan) (1.22)\n",
      "Requirement already satisfied: certifi>=2017.4.17 in /Users/kimmo/.pyenv/versions/3.6.5/envs/kaggle-3.6.5/lib/python3.6/site-packages (from requests<2.21->meeshkan) (2018.11.29)\n",
      "Requirement already satisfied: chardet<3.1.0,>=3.0.2 in /Users/kimmo/.pyenv/versions/3.6.5/envs/kaggle-3.6.5/lib/python3.6/site-packages (from requests<2.21->meeshkan) (3.0.4)\n",
      "Requirement already satisfied: idna<2.8,>=2.5 in /Users/kimmo/.pyenv/versions/3.6.5/envs/kaggle-3.6.5/lib/python3.6/site-packages (from requests<2.21->meeshkan) (2.7)\n",
      "Requirement already satisfied: docutils>=0.10 in /Users/kimmo/.pyenv/versions/3.6.5/envs/kaggle-3.6.5/lib/python3.6/site-packages (from botocore<1.13.0,>=1.12.86->boto3->meeshkan) (0.14)\n",
      "Requirement already satisfied: prompt-toolkit<2.1.0,>=2.0.0 in /Users/kimmo/.pyenv/versions/3.6.5/envs/kaggle-3.6.5/lib/python3.6/site-packages (from ipython>=5.0.0->ipykernel->meeshkan) (2.0.8)\n",
      "Requirement already satisfied: pexpect; sys_platform != \"win32\" in /Users/kimmo/.pyenv/versions/3.6.5/envs/kaggle-3.6.5/lib/python3.6/site-packages (from ipython>=5.0.0->ipykernel->meeshkan) (4.6.0)\n",
      "Requirement already satisfied: backcall in /Users/kimmo/.pyenv/versions/3.6.5/envs/kaggle-3.6.5/lib/python3.6/site-packages (from ipython>=5.0.0->ipykernel->meeshkan) (0.1.0)\n",
      "Requirement already satisfied: decorator in /Users/kimmo/.pyenv/versions/3.6.5/envs/kaggle-3.6.5/lib/python3.6/site-packages (from ipython>=5.0.0->ipykernel->meeshkan) (4.3.2)\n",
      "Requirement already satisfied: jedi>=0.10 in /Users/kimmo/.pyenv/versions/3.6.5/envs/kaggle-3.6.5/lib/python3.6/site-packages (from ipython>=5.0.0->ipykernel->meeshkan) (0.13.2)\n",
      "Requirement already satisfied: pickleshare in /Users/kimmo/.pyenv/versions/3.6.5/envs/kaggle-3.6.5/lib/python3.6/site-packages (from ipython>=5.0.0->ipykernel->meeshkan) (0.7.5)\n",
      "Requirement already satisfied: appnope; sys_platform == \"darwin\" in /Users/kimmo/.pyenv/versions/3.6.5/envs/kaggle-3.6.5/lib/python3.6/site-packages (from ipython>=5.0.0->ipykernel->meeshkan) (0.1.0)\n",
      "Requirement already satisfied: MarkupSafe>=0.23 in /Users/kimmo/.pyenv/versions/3.6.5/envs/kaggle-3.6.5/lib/python3.6/site-packages (from jinja2->nbconvert->meeshkan) (1.1.0)\n",
      "Requirement already satisfied: jsonschema!=2.5.0,>=2.4 in /Users/kimmo/.pyenv/versions/3.6.5/envs/kaggle-3.6.5/lib/python3.6/site-packages (from nbformat>=4.4->nbconvert->meeshkan) (2.6.0)\n",
      "Requirement already satisfied: webencodings in /Users/kimmo/.pyenv/versions/3.6.5/envs/kaggle-3.6.5/lib/python3.6/site-packages (from bleach->nbconvert->meeshkan) (0.5.1)\n",
      "Requirement already satisfied: ptyprocess; os_name != \"nt\" in /Users/kimmo/.pyenv/versions/3.6.5/envs/kaggle-3.6.5/lib/python3.6/site-packages (from terminado>=0.8.1->notebook->meeshkan) (0.6.0)\n",
      "Requirement already satisfied: wcwidth in /Users/kimmo/.pyenv/versions/3.6.5/envs/kaggle-3.6.5/lib/python3.6/site-packages (from prompt-toolkit<2.1.0,>=2.0.0->ipython>=5.0.0->ipykernel->meeshkan) (0.1.7)\n",
      "Requirement already satisfied: parso>=0.3.0 in /Users/kimmo/.pyenv/versions/3.6.5/envs/kaggle-3.6.5/lib/python3.6/site-packages (from jedi>=0.10->ipython>=5.0.0->ipykernel->meeshkan) (0.3.2)\n"
     ]
    }
   ],
   "source": [
    "!pip install keras tensorflow meeshkan"
   ]
  },
  {
   "cell_type": "code",
   "execution_count": 2,
   "metadata": {},
   "outputs": [
    {
     "name": "stderr",
     "output_type": "stream",
     "text": [
      "Using TensorFlow backend.\n"
     ]
    }
   ],
   "source": [
    "import os\n",
    "import meeshkan\n",
    "import keras"
   ]
  },
  {
   "cell_type": "markdown",
   "metadata": {},
   "source": [
    "Check that datasources are correctly linked:"
   ]
  },
  {
   "cell_type": "code",
   "execution_count": 3,
   "metadata": {},
   "outputs": [
    {
     "name": "stdout",
     "output_type": "stream",
     "text": [
      "['test_images', 'breed_labels.csv', 'test_metadata.zip', 'test_images.zip', 'test', 'train_images.zip', 'train_metadata', 'color_labels.csv', 'test_sentiment', '.gitkeep', 'test_metadata', 'test.zip', 'train_sentiment', 'test_sentiment.zip', 'train_sentiment.zip', 'train', 'filename_without_extension', 'train_metadata.zip', 'train_images', 'state_labels.csv', 'train.zip']\n"
     ]
    }
   ],
   "source": [
    "print(os.listdir(\"../input\"))"
   ]
  },
  {
   "cell_type": "markdown",
   "metadata": {},
   "source": [
    "### Setting up Meeshkan"
   ]
  },
  {
   "cell_type": "markdown",
   "metadata": {},
   "source": [
    "To use Meeshkan, you need to \n",
    "1. register at [meeshkan.com](https://meeshkan.com) and get our API key\n",
    "1. setup Slack integration as instructed in the [docs](https://www.meeshkan.com/docs)\n",
    "1. initialize the credentials and start the agent.\n",
    "\n",
    "The second step can be achieved with the `meeshkan.init(token=YOUR_API_KEY)` command. **Make sure to replace the example API key below with your own key!**"
   ]
  },
  {
   "cell_type": "code",
   "execution_count": 4,
   "metadata": {},
   "outputs": [
    {
     "name": "stdout",
     "output_type": "stream",
     "text": [
      "Stopping service...\n",
      "Service started.\n"
     ]
    }
   ],
   "source": [
    "meeshkan.init(token=\"meVLHpGVcpG1QI2jTo1VLJpv96ZRTijCROaj4CQSU1IMQ\")  # REPLACE THIS WITH YOUR API_KEY"
   ]
  },
  {
   "cell_type": "markdown",
   "metadata": {},
   "source": [
    "Meeshkan agent can be used to schedule multiple machine learning jobs, but as we're just running stuff sequentially, we can simply use the [as_blocking_job](https://meeshkan-client.readthedocs.io/en/latest/#meeshkan.as_blocking_job) decorator to group runs as jobs. Execute the cell below to ensure you get Slack notifications."
   ]
  },
  {
   "cell_type": "code",
   "execution_count": 5,
   "metadata": {},
   "outputs": [],
   "source": [
    "import time\n",
    "@meeshkan.as_blocking_job(job_name=\"test-job\", report_interval_secs=10)\n",
    "def train():\n",
    "    for i in range(10):\n",
    "        meeshkan.report_scalar(\"counter\", i)\n",
    "        time.sleep(2)\n",
    "        \n",
    "train()"
   ]
  },
  {
   "cell_type": "markdown",
   "metadata": {},
   "source": [
    "If everything works as expected, we can get rocking with machine learning!"
   ]
  },
  {
   "cell_type": "markdown",
   "metadata": {},
   "source": [
    "### Run your job"
   ]
  },
  {
   "cell_type": "markdown",
   "metadata": {},
   "source": [
    "### Teardown"
   ]
  },
  {
   "cell_type": "markdown",
   "metadata": {},
   "source": [
    "Finally we stop the Meeshkan agent cleanly:"
   ]
  },
  {
   "cell_type": "code",
   "execution_count": 6,
   "metadata": {},
   "outputs": [
    {
     "name": "stdout",
     "output_type": "stream",
     "text": [
      "Stopping service...\n",
      "Service stopped.\n"
     ]
    }
   ],
   "source": [
    "meeshkan.stop()"
   ]
  }
 ],
 "metadata": {
  "kernelspec": {
   "display_name": "Python 3",
   "language": "python",
   "name": "python3"
  },
  "language_info": {
   "codemirror_mode": {
    "name": "ipython",
    "version": 3
   },
   "file_extension": ".py",
   "mimetype": "text/x-python",
   "name": "python",
   "nbconvert_exporter": "python",
   "pygments_lexer": "ipython3",
   "version": "3.6.5"
  }
 },
 "nbformat": 4,
 "nbformat_minor": 2
}
