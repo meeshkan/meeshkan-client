{
 "cells": [
  {
   "cell_type": "markdown",
   "metadata": {},
   "source": [
    "# Using Meeshkan for developing Kaggle kernels\n",
    "For a full example of how to, for example, submit kernels from the command-line, see the example page in [GitHub](https://github.com/Meeshkan/meeshkan-client/tree/kaggle-kernel-example/examples/kaggle)."
   ]
  },
  {
   "cell_type": "markdown",
   "metadata": {},
   "source": [
    "### Install dependencies"
   ]
  },
  {
   "cell_type": "code",
   "execution_count": null,
   "metadata": {},
   "outputs": [],
   "source": [
    "!pip install keras tensorflow meeshkan pandas scikit-learn"
   ]
  },
  {
   "cell_type": "code",
   "execution_count": null,
   "metadata": {},
   "outputs": [],
   "source": [
    "import os\n",
    "import random\n",
    "\n",
    "import meeshkan\n",
    "\n",
    "import keras\n",
    "\n",
    "import matplotlib.pyplot as plt\n",
    "%matplotlib inline\n",
    "\n",
    "import numpy as np\n",
    "import pandas as pd\n",
    "\n",
    "import sklearn\n",
    "from sklearn.model_selection import cross_val_score\n",
    "from sklearn.metrics import mean_absolute_error, mean_squared_error, make_scorer\n",
    "from sklearn.model_selection import GridSearchCV\n",
    "from sklearn.pipeline import Pipeline\n",
    "from sklearn.gaussian_process import GaussianProcessRegressor"
   ]
  },
  {
   "cell_type": "markdown",
   "metadata": {},
   "source": [
    "Check that data has been downloaded and it's available:"
   ]
  },
  {
   "cell_type": "code",
   "execution_count": null,
   "metadata": {},
   "outputs": [],
   "source": [
    "print(os.listdir(\"../input\"))"
   ]
  },
  {
   "cell_type": "markdown",
   "metadata": {},
   "source": [
    "### Setting up Meeshkan"
   ]
  },
  {
   "cell_type": "markdown",
   "metadata": {},
   "source": [
    "To use Meeshkan, you need to \n",
    "1. register at [meeshkan.com](https://meeshkan.com) and get our API key\n",
    "1. setup Slack integration as instructed in the [docs](https://www.meeshkan.com/docs)\n",
    "1. initialize the credentials and start the agent.\n",
    "\n",
    "The second step can be achieved with the `meeshkan.init(token=YOUR_API_KEY)` command. **Make sure to replace the example API key below with your own key!**"
   ]
  },
  {
   "cell_type": "code",
   "execution_count": null,
   "metadata": {},
   "outputs": [],
   "source": [
    "meeshkan.init(token=\"YOUR_API_KEY\")  # REPLACE THIS WITH YOUR API_KEY"
   ]
  },
  {
   "cell_type": "markdown",
   "metadata": {},
   "source": [
    "Meeshkan agent can be used to schedule multiple machine learning jobs, but as we're just running stuff sequentially, we can simply use the [as_blocking_job](https://meeshkan-client.readthedocs.io/en/latest/#meeshkan.as_blocking_job) decorator to group runs as jobs. Execute the cell below to ensure you get Slack notifications."
   ]
  },
  {
   "cell_type": "code",
   "execution_count": null,
   "metadata": {},
   "outputs": [],
   "source": [
    "import time\n",
    "@meeshkan.as_blocking_job(job_name=\"test-job\", report_interval_secs=10)\n",
    "def train():\n",
    "    for i in range(10):\n",
    "        meeshkan.report_scalar(\"Random number\", random.uniform(0, 1))\n",
    "        time.sleep(2)\n",
    "        \n",
    "train()"
   ]
  },
  {
   "cell_type": "markdown",
   "metadata": {},
   "source": [
    "If everything works as expected, we can get rocking with machine learning!"
   ]
  },
  {
   "cell_type": "markdown",
   "metadata": {},
   "source": [
    "### Run your job"
   ]
  },
  {
   "cell_type": "markdown",
   "metadata": {},
   "source": [
    "To keep this demo as simple as possible, we will only use the `Age` column to try and predict `AdoptionSpeed`. First load data and peek into first rows:"
   ]
  },
  {
   "cell_type": "code",
   "execution_count": null,
   "metadata": {},
   "outputs": [],
   "source": [
    "train_df = pd.read_csv(\"../input/train/train.csv\")\n",
    "train_df.head()"
   ]
  },
  {
   "cell_type": "markdown",
   "metadata": {},
   "source": [
    "Check what the columns look like:"
   ]
  },
  {
   "cell_type": "code",
   "execution_count": null,
   "metadata": {},
   "outputs": [],
   "source": [
    "train_df.info()"
   ]
  },
  {
   "cell_type": "markdown",
   "metadata": {},
   "source": [
    "Let us check how `Age` compares to `AdoptionSpeed`:"
   ]
  },
  {
   "cell_type": "code",
   "execution_count": null,
   "metadata": {},
   "outputs": [],
   "source": [
    "train_df.plot(x=\"Age\", y=\"AdoptionSpeed\", kind=\"scatter\")"
   ]
  },
  {
   "cell_type": "markdown",
   "metadata": {},
   "source": [
    "Obviously the correlation is not very good and age of zero should be taken into account.\n",
    "\n",
    "Let us create a training and validation set from `train_df`:"
   ]
  },
  {
   "cell_type": "code",
   "execution_count": null,
   "metadata": {},
   "outputs": [],
   "source": [
    "from sklearn.model_selection import train_test_split\n",
    "\n",
    "TRAIN_COLUMNS = ['Age']\n",
    "\n",
    "X = train_df[TRAIN_COLUMNS].values\n",
    "y = train_df['AdoptionSpeed'].values\n",
    "\n",
    "# Normalize input and output\n",
    "X_scaler = sklearn.preprocessing.MinMaxScaler()\n",
    "y_scaler = sklearn.preprocessing.MinMaxScaler()\n",
    "X = X_scaler.fit_transform(X)\n",
    "y = y_scaler.fit_transform(y.reshape(-1, 1))\n",
    "\n",
    "X_train, X_val, y_train, y_val = train_test_split(X, y, test_size=0.20, shuffle=True)"
   ]
  },
  {
   "cell_type": "code",
   "execution_count": null,
   "metadata": {},
   "outputs": [],
   "source": [
    "X"
   ]
  },
  {
   "cell_type": "code",
   "execution_count": null,
   "metadata": {},
   "outputs": [],
   "source": [
    "print(\"X_train:\", X_train.shape)\n",
    "print(\"y_train:\", y_train.shape)\n",
    "print(\"X_val:\", X_val.shape)\n",
    "print(\"y_val:\", y_val.shape)"
   ]
  },
  {
   "cell_type": "code",
   "execution_count": null,
   "metadata": {},
   "outputs": [],
   "source": [
    "plt.plot(X_train, y_train, 'bo')"
   ]
  },
  {
   "cell_type": "code",
   "execution_count": null,
   "metadata": {
    "scrolled": true
   },
   "outputs": [],
   "source": [
    "from keras.models import Sequential\n",
    "from keras.layers import Dense, Activation\n",
    "from keras.callbacks import LambdaCallback\n",
    "from keras.optimizers import SGD\n",
    "\n",
    "def build_model():\n",
    "    model = Sequential()\n",
    "    model.add(Dense(10, input_dim=len(TRAIN_COLUMNS)))\n",
    "    model.add(Activation('relu'))\n",
    "    model.add(Dense(5))\n",
    "    model.add(Activation('relu'))\n",
    "    model.add(Dense(1, input_dim=len(TRAIN_COLUMNS)))\n",
    "\n",
    "    model.compile(loss='mse', optimizer=SGD(lr=1e-3), metrics=['mae'])\n",
    "    return model\n",
    "\n",
    "def on_epoch_end(epoch, logs):\n",
    "    try:\n",
    "        meeshkan.report_scalar(\"Train loss\", float(logs['loss']), \"Train mae\", float(logs['mean_absolute_error']))\n",
    "    except Exception as e:\n",
    "        print(e)\n",
    "\n",
    "EPOCHS = 100\n",
    "VALIDATION_INTERVAL = 1\n",
    "\n",
    "@meeshkan.as_blocking_job(job_name=\"train-keras\", report_interval_secs=60)\n",
    "def train(model):\n",
    "    print('Training -----------')\n",
    "    \n",
    "    import time\n",
    "    time.sleep(1)\n",
    "    # Add a condition to send notification when MAE is small enough\n",
    "    meeshkan.add_condition(\"Train mae\", condition=lambda value: value < 0.3)\n",
    "    \n",
    "    # Report scalars to Meeshkan at every epoch end\n",
    "    meeshkan_callback = LambdaCallback(on_epoch_end=on_epoch_end)\n",
    "    history = model.fit(X_train,\n",
    "                        y_train,\n",
    "                        epochs=EPOCHS,\n",
    "                        batch_size=256,\n",
    "                        callbacks = [meeshkan_callback])\n",
    "    return history\n",
    "\n",
    "model = build_model()\n",
    "\n",
    "train(model)"
   ]
  },
  {
   "cell_type": "markdown",
   "metadata": {},
   "source": [
    "You should have received notifications for job being started and, finally, for the job being finished. Let's plot the predictions for fun."
   ]
  },
  {
   "cell_type": "code",
   "execution_count": null,
   "metadata": {},
   "outputs": [],
   "source": [
    "y_pred = model.predict(X_val)\n",
    "\n",
    "# Perform inverse scalings\n",
    "X_val_orig = X_scaler.inverse_transform(X_val)\n",
    "\n",
    "plt.plot(X_val_orig, y_scaler.inverse_transform(y_pred), 'bo', label='Prediction')\n",
    "plt.plot(X_val_orig, y_scaler.inverse_transform(y_val), 'rs', label='Adoption speed')\n",
    "plt.legend()"
   ]
  },
  {
   "cell_type": "markdown",
   "metadata": {},
   "source": [
    "### Teardown"
   ]
  },
  {
   "cell_type": "markdown",
   "metadata": {},
   "source": [
    "Once we're done, we can stop the Meeshkan agent cleanly:"
   ]
  },
  {
   "cell_type": "code",
   "execution_count": null,
   "metadata": {},
   "outputs": [],
   "source": [
    "meeshkan.stop()"
   ]
  }
 ],
 "metadata": {
  "kernelspec": {
   "display_name": "Python 3",
   "language": "python",
   "name": "python3"
  },
  "language_info": {
   "codemirror_mode": {
    "name": "ipython",
    "version": 3
   },
   "file_extension": ".py",
   "mimetype": "text/x-python",
   "name": "python",
   "nbconvert_exporter": "python",
   "pygments_lexer": "ipython3",
   "version": "3.6.5"
  }
 },
 "nbformat": 4,
 "nbformat_minor": 2
}
