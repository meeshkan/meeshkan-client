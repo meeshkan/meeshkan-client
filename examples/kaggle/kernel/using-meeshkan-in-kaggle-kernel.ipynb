{
 "cells": [
  {
   "cell_type": "markdown",
   "metadata": {},
   "source": [
    "# Using Meeshkan for developing Kaggle kernels\n",
    "Example of using Meeshkan to get notifications and remotely control jobs from Kaggle kernel.\n",
    "\n",
    "For a full example of how to submit this kernel to Kaggle, see [GitHub](https://github.com/Meeshkan/meeshkan-client/tree/dev/examples/kaggle)."
   ]
  },
  {
   "cell_type": "markdown",
   "metadata": {},
   "source": [
    "### Install dependencies\n",
    "Let us first install all the dependencies we need. Note that as of February 2018, installing `tensorflow` requires Python < 3.7."
   ]
  },
  {
   "cell_type": "code",
   "execution_count": 1,
   "metadata": {},
   "outputs": [
    {
     "name": "stdout",
     "output_type": "stream",
     "text": [
      "Requirement already satisfied: keras in /Users/kimmo/.pyenv/versions/3.6.5/envs/kaggle-3.6.5/lib/python3.6/site-packages (2.2.4)\n",
      "Requirement already satisfied: tensorflow in /Users/kimmo/.pyenv/versions/3.6.5/envs/kaggle-3.6.5/lib/python3.6/site-packages (1.12.0)\n",
      "Requirement already satisfied: meeshkan in /Users/kimmo/.pyenv/versions/3.6.5/envs/kaggle-3.6.5/lib/python3.6/site-packages (0.1.6)\n",
      "Requirement already satisfied: pandas in /Users/kimmo/.pyenv/versions/3.6.5/envs/kaggle-3.6.5/lib/python3.6/site-packages (0.24.0)\n",
      "Requirement already satisfied: scikit-learn in /Users/kimmo/.pyenv/versions/3.6.5/envs/kaggle-3.6.5/lib/python3.6/site-packages (0.20.2)\n",
      "Requirement already satisfied: keras-preprocessing>=1.0.5 in /Users/kimmo/.pyenv/versions/3.6.5/envs/kaggle-3.6.5/lib/python3.6/site-packages (from keras) (1.0.5)\n",
      "Requirement already satisfied: six>=1.9.0 in /Users/kimmo/.pyenv/versions/3.6.5/envs/kaggle-3.6.5/lib/python3.6/site-packages (from keras) (1.12.0)\n",
      "Requirement already satisfied: h5py in /Users/kimmo/.pyenv/versions/3.6.5/envs/kaggle-3.6.5/lib/python3.6/site-packages (from keras) (2.9.0)\n",
      "Requirement already satisfied: numpy>=1.9.1 in /Users/kimmo/.pyenv/versions/3.6.5/envs/kaggle-3.6.5/lib/python3.6/site-packages (from keras) (1.16.0)\n",
      "Requirement already satisfied: scipy>=0.14 in /Users/kimmo/.pyenv/versions/3.6.5/envs/kaggle-3.6.5/lib/python3.6/site-packages (from keras) (1.2.0)\n",
      "Requirement already satisfied: pyyaml in /Users/kimmo/.pyenv/versions/3.6.5/envs/kaggle-3.6.5/lib/python3.6/site-packages (from keras) (3.13)\n",
      "Requirement already satisfied: keras-applications>=1.0.6 in /Users/kimmo/.pyenv/versions/3.6.5/envs/kaggle-3.6.5/lib/python3.6/site-packages (from keras) (1.0.6)\n",
      "Requirement already satisfied: grpcio>=1.8.6 in /Users/kimmo/.pyenv/versions/3.6.5/envs/kaggle-3.6.5/lib/python3.6/site-packages (from tensorflow) (1.18.0)\n",
      "Requirement already satisfied: gast>=0.2.0 in /Users/kimmo/.pyenv/versions/3.6.5/envs/kaggle-3.6.5/lib/python3.6/site-packages (from tensorflow) (0.2.2)\n",
      "Requirement already satisfied: wheel>=0.26 in /Users/kimmo/.pyenv/versions/3.6.5/envs/kaggle-3.6.5/lib/python3.6/site-packages (from tensorflow) (0.32.3)\n",
      "Requirement already satisfied: protobuf>=3.6.1 in /Users/kimmo/.pyenv/versions/3.6.5/envs/kaggle-3.6.5/lib/python3.6/site-packages (from tensorflow) (3.6.1)\n",
      "Requirement already satisfied: termcolor>=1.1.0 in /Users/kimmo/.pyenv/versions/3.6.5/envs/kaggle-3.6.5/lib/python3.6/site-packages (from tensorflow) (1.1.0)\n",
      "Requirement already satisfied: absl-py>=0.1.6 in /Users/kimmo/.pyenv/versions/3.6.5/envs/kaggle-3.6.5/lib/python3.6/site-packages (from tensorflow) (0.7.0)\n",
      "Requirement already satisfied: astor>=0.6.0 in /Users/kimmo/.pyenv/versions/3.6.5/envs/kaggle-3.6.5/lib/python3.6/site-packages (from tensorflow) (0.7.1)\n",
      "Requirement already satisfied: tensorboard<1.13.0,>=1.12.0 in /Users/kimmo/.pyenv/versions/3.6.5/envs/kaggle-3.6.5/lib/python3.6/site-packages (from tensorflow) (1.12.2)\n",
      "Requirement already satisfied: matplotlib in /Users/kimmo/.pyenv/versions/3.6.5/envs/kaggle-3.6.5/lib/python3.6/site-packages (from meeshkan) (3.0.2)\n",
      "Requirement already satisfied: requests<2.21 in /Users/kimmo/.pyenv/versions/3.6.5/envs/kaggle-3.6.5/lib/python3.6/site-packages (from meeshkan) (2.20.1)\n",
      "Requirement already satisfied: dill in /Users/kimmo/.pyenv/versions/3.6.5/envs/kaggle-3.6.5/lib/python3.6/site-packages (from meeshkan) (0.2.9)\n",
      "Requirement already satisfied: ipykernel in /Users/kimmo/.pyenv/versions/3.6.5/envs/kaggle-3.6.5/lib/python3.6/site-packages (from meeshkan) (5.1.0)\n",
      "Requirement already satisfied: Click in /Users/kimmo/.pyenv/versions/3.6.5/envs/kaggle-3.6.5/lib/python3.6/site-packages (from meeshkan) (7.0)\n",
      "Requirement already satisfied: boto3 in /Users/kimmo/.pyenv/versions/3.6.5/envs/kaggle-3.6.5/lib/python3.6/site-packages (from meeshkan) (1.9.86)\n",
      "Requirement already satisfied: tabulate in /Users/kimmo/.pyenv/versions/3.6.5/envs/kaggle-3.6.5/lib/python3.6/site-packages (from meeshkan) (0.8.3)\n",
      "Requirement already satisfied: notebook in /Users/kimmo/.pyenv/versions/3.6.5/envs/kaggle-3.6.5/lib/python3.6/site-packages (from meeshkan) (5.7.4)\n",
      "Requirement already satisfied: nbconvert in /Users/kimmo/.pyenv/versions/3.6.5/envs/kaggle-3.6.5/lib/python3.6/site-packages (from meeshkan) (5.4.0)\n",
      "Requirement already satisfied: Pyro4 in /Users/kimmo/.pyenv/versions/3.6.5/envs/kaggle-3.6.5/lib/python3.6/site-packages (from meeshkan) (4.75)\n",
      "Requirement already satisfied: pytz>=2011k in /Users/kimmo/.pyenv/versions/3.6.5/envs/kaggle-3.6.5/lib/python3.6/site-packages (from pandas) (2018.9)\n",
      "Requirement already satisfied: python-dateutil>=2.5.0 in /Users/kimmo/.pyenv/versions/3.6.5/envs/kaggle-3.6.5/lib/python3.6/site-packages (from pandas) (2.7.5)\n",
      "Requirement already satisfied: setuptools in /Users/kimmo/.pyenv/versions/3.6.5/envs/kaggle-3.6.5/lib/python3.6/site-packages (from protobuf>=3.6.1->tensorflow) (39.0.1)\n",
      "Requirement already satisfied: werkzeug>=0.11.10 in /Users/kimmo/.pyenv/versions/3.6.5/envs/kaggle-3.6.5/lib/python3.6/site-packages (from tensorboard<1.13.0,>=1.12.0->tensorflow) (0.14.1)\n",
      "Requirement already satisfied: markdown>=2.6.8 in /Users/kimmo/.pyenv/versions/3.6.5/envs/kaggle-3.6.5/lib/python3.6/site-packages (from tensorboard<1.13.0,>=1.12.0->tensorflow) (3.0.1)\n",
      "Requirement already satisfied: pyparsing!=2.0.4,!=2.1.2,!=2.1.6,>=2.0.1 in /Users/kimmo/.pyenv/versions/3.6.5/envs/kaggle-3.6.5/lib/python3.6/site-packages (from matplotlib->meeshkan) (2.3.1)\n",
      "Requirement already satisfied: kiwisolver>=1.0.1 in /Users/kimmo/.pyenv/versions/3.6.5/envs/kaggle-3.6.5/lib/python3.6/site-packages (from matplotlib->meeshkan) (1.0.1)\n",
      "Requirement already satisfied: cycler>=0.10 in /Users/kimmo/.pyenv/versions/3.6.5/envs/kaggle-3.6.5/lib/python3.6/site-packages (from matplotlib->meeshkan) (0.10.0)\n",
      "Requirement already satisfied: urllib3<1.25,>=1.21.1 in /Users/kimmo/.pyenv/versions/3.6.5/envs/kaggle-3.6.5/lib/python3.6/site-packages (from requests<2.21->meeshkan) (1.22)\n",
      "Requirement already satisfied: idna<2.8,>=2.5 in /Users/kimmo/.pyenv/versions/3.6.5/envs/kaggle-3.6.5/lib/python3.6/site-packages (from requests<2.21->meeshkan) (2.7)\n",
      "Requirement already satisfied: certifi>=2017.4.17 in /Users/kimmo/.pyenv/versions/3.6.5/envs/kaggle-3.6.5/lib/python3.6/site-packages (from requests<2.21->meeshkan) (2018.11.29)\n",
      "Requirement already satisfied: chardet<3.1.0,>=3.0.2 in /Users/kimmo/.pyenv/versions/3.6.5/envs/kaggle-3.6.5/lib/python3.6/site-packages (from requests<2.21->meeshkan) (3.0.4)\n",
      "Requirement already satisfied: tornado>=4.2 in /Users/kimmo/.pyenv/versions/3.6.5/envs/kaggle-3.6.5/lib/python3.6/site-packages (from ipykernel->meeshkan) (5.1.1)\n",
      "Requirement already satisfied: jupyter-client in /Users/kimmo/.pyenv/versions/3.6.5/envs/kaggle-3.6.5/lib/python3.6/site-packages (from ipykernel->meeshkan) (5.2.4)\n",
      "Requirement already satisfied: ipython>=5.0.0 in /Users/kimmo/.pyenv/versions/3.6.5/envs/kaggle-3.6.5/lib/python3.6/site-packages (from ipykernel->meeshkan) (7.2.0)\n",
      "Requirement already satisfied: traitlets>=4.1.0 in /Users/kimmo/.pyenv/versions/3.6.5/envs/kaggle-3.6.5/lib/python3.6/site-packages (from ipykernel->meeshkan) (4.3.2)\n",
      "Requirement already satisfied: jmespath<1.0.0,>=0.7.1 in /Users/kimmo/.pyenv/versions/3.6.5/envs/kaggle-3.6.5/lib/python3.6/site-packages (from boto3->meeshkan) (0.9.3)\n",
      "Requirement already satisfied: s3transfer<0.2.0,>=0.1.10 in /Users/kimmo/.pyenv/versions/3.6.5/envs/kaggle-3.6.5/lib/python3.6/site-packages (from boto3->meeshkan) (0.1.13)\n",
      "Requirement already satisfied: botocore<1.13.0,>=1.12.86 in /Users/kimmo/.pyenv/versions/3.6.5/envs/kaggle-3.6.5/lib/python3.6/site-packages (from boto3->meeshkan) (1.12.86)\n",
      "Requirement already satisfied: nbformat in /Users/kimmo/.pyenv/versions/3.6.5/envs/kaggle-3.6.5/lib/python3.6/site-packages (from notebook->meeshkan) (4.4.0)\n",
      "Requirement already satisfied: Send2Trash in /Users/kimmo/.pyenv/versions/3.6.5/envs/kaggle-3.6.5/lib/python3.6/site-packages (from notebook->meeshkan) (1.5.0)\n",
      "Requirement already satisfied: ipython-genutils in /Users/kimmo/.pyenv/versions/3.6.5/envs/kaggle-3.6.5/lib/python3.6/site-packages (from notebook->meeshkan) (0.2.0)\n",
      "Requirement already satisfied: jupyter-core>=4.4.0 in /Users/kimmo/.pyenv/versions/3.6.5/envs/kaggle-3.6.5/lib/python3.6/site-packages (from notebook->meeshkan) (4.4.0)\n",
      "Requirement already satisfied: jinja2 in /Users/kimmo/.pyenv/versions/3.6.5/envs/kaggle-3.6.5/lib/python3.6/site-packages (from notebook->meeshkan) (2.10)\n",
      "Requirement already satisfied: prometheus-client in /Users/kimmo/.pyenv/versions/3.6.5/envs/kaggle-3.6.5/lib/python3.6/site-packages (from notebook->meeshkan) (0.5.0)\n",
      "Requirement already satisfied: pyzmq>=17 in /Users/kimmo/.pyenv/versions/3.6.5/envs/kaggle-3.6.5/lib/python3.6/site-packages (from notebook->meeshkan) (17.1.2)\n",
      "Requirement already satisfied: terminado>=0.8.1 in /Users/kimmo/.pyenv/versions/3.6.5/envs/kaggle-3.6.5/lib/python3.6/site-packages (from notebook->meeshkan) (0.8.1)\n",
      "Requirement already satisfied: defusedxml in /Users/kimmo/.pyenv/versions/3.6.5/envs/kaggle-3.6.5/lib/python3.6/site-packages (from nbconvert->meeshkan) (0.5.0)\n",
      "Requirement already satisfied: pandocfilters>=1.4.1 in /Users/kimmo/.pyenv/versions/3.6.5/envs/kaggle-3.6.5/lib/python3.6/site-packages (from nbconvert->meeshkan) (1.4.2)\n",
      "Requirement already satisfied: entrypoints>=0.2.2 in /Users/kimmo/.pyenv/versions/3.6.5/envs/kaggle-3.6.5/lib/python3.6/site-packages (from nbconvert->meeshkan) (0.3)\n",
      "Requirement already satisfied: mistune>=0.8.1 in /Users/kimmo/.pyenv/versions/3.6.5/envs/kaggle-3.6.5/lib/python3.6/site-packages (from nbconvert->meeshkan) (0.8.4)\n",
      "Requirement already satisfied: pygments in /Users/kimmo/.pyenv/versions/3.6.5/envs/kaggle-3.6.5/lib/python3.6/site-packages (from nbconvert->meeshkan) (2.3.1)\n",
      "Requirement already satisfied: bleach in /Users/kimmo/.pyenv/versions/3.6.5/envs/kaggle-3.6.5/lib/python3.6/site-packages (from nbconvert->meeshkan) (3.1.0)\n",
      "Requirement already satisfied: testpath in /Users/kimmo/.pyenv/versions/3.6.5/envs/kaggle-3.6.5/lib/python3.6/site-packages (from nbconvert->meeshkan) (0.4.2)\n",
      "Requirement already satisfied: serpent>=1.27 in /Users/kimmo/.pyenv/versions/3.6.5/envs/kaggle-3.6.5/lib/python3.6/site-packages (from Pyro4->meeshkan) (1.27)\n",
      "Requirement already satisfied: pexpect; sys_platform != \"win32\" in /Users/kimmo/.pyenv/versions/3.6.5/envs/kaggle-3.6.5/lib/python3.6/site-packages (from ipython>=5.0.0->ipykernel->meeshkan) (4.6.0)\n",
      "Requirement already satisfied: decorator in /Users/kimmo/.pyenv/versions/3.6.5/envs/kaggle-3.6.5/lib/python3.6/site-packages (from ipython>=5.0.0->ipykernel->meeshkan) (4.3.2)\n"
     ]
    },
    {
     "name": "stdout",
     "output_type": "stream",
     "text": [
      "Requirement already satisfied: pickleshare in /Users/kimmo/.pyenv/versions/3.6.5/envs/kaggle-3.6.5/lib/python3.6/site-packages (from ipython>=5.0.0->ipykernel->meeshkan) (0.7.5)\r\n",
      "Requirement already satisfied: appnope; sys_platform == \"darwin\" in /Users/kimmo/.pyenv/versions/3.6.5/envs/kaggle-3.6.5/lib/python3.6/site-packages (from ipython>=5.0.0->ipykernel->meeshkan) (0.1.0)\r\n",
      "Requirement already satisfied: prompt-toolkit<2.1.0,>=2.0.0 in /Users/kimmo/.pyenv/versions/3.6.5/envs/kaggle-3.6.5/lib/python3.6/site-packages (from ipython>=5.0.0->ipykernel->meeshkan) (2.0.8)\r\n",
      "Requirement already satisfied: jedi>=0.10 in /Users/kimmo/.pyenv/versions/3.6.5/envs/kaggle-3.6.5/lib/python3.6/site-packages (from ipython>=5.0.0->ipykernel->meeshkan) (0.13.2)\r\n",
      "Requirement already satisfied: backcall in /Users/kimmo/.pyenv/versions/3.6.5/envs/kaggle-3.6.5/lib/python3.6/site-packages (from ipython>=5.0.0->ipykernel->meeshkan) (0.1.0)\r\n",
      "Requirement already satisfied: docutils>=0.10 in /Users/kimmo/.pyenv/versions/3.6.5/envs/kaggle-3.6.5/lib/python3.6/site-packages (from botocore<1.13.0,>=1.12.86->boto3->meeshkan) (0.14)\r\n",
      "Requirement already satisfied: jsonschema!=2.5.0,>=2.4 in /Users/kimmo/.pyenv/versions/3.6.5/envs/kaggle-3.6.5/lib/python3.6/site-packages (from nbformat->notebook->meeshkan) (2.6.0)\r\n",
      "Requirement already satisfied: MarkupSafe>=0.23 in /Users/kimmo/.pyenv/versions/3.6.5/envs/kaggle-3.6.5/lib/python3.6/site-packages (from jinja2->notebook->meeshkan) (1.1.0)\r\n",
      "Requirement already satisfied: ptyprocess; os_name != \"nt\" in /Users/kimmo/.pyenv/versions/3.6.5/envs/kaggle-3.6.5/lib/python3.6/site-packages (from terminado>=0.8.1->notebook->meeshkan) (0.6.0)\r\n",
      "Requirement already satisfied: webencodings in /Users/kimmo/.pyenv/versions/3.6.5/envs/kaggle-3.6.5/lib/python3.6/site-packages (from bleach->nbconvert->meeshkan) (0.5.1)\r\n",
      "Requirement already satisfied: wcwidth in /Users/kimmo/.pyenv/versions/3.6.5/envs/kaggle-3.6.5/lib/python3.6/site-packages (from prompt-toolkit<2.1.0,>=2.0.0->ipython>=5.0.0->ipykernel->meeshkan) (0.1.7)\r\n",
      "Requirement already satisfied: parso>=0.3.0 in /Users/kimmo/.pyenv/versions/3.6.5/envs/kaggle-3.6.5/lib/python3.6/site-packages (from jedi>=0.10->ipython>=5.0.0->ipykernel->meeshkan) (0.3.2)\r\n"
     ]
    }
   ],
   "source": [
    "!pip install keras tensorflow meeshkan pandas scikit-learn"
   ]
  },
  {
   "cell_type": "code",
   "execution_count": 2,
   "metadata": {},
   "outputs": [
    {
     "name": "stderr",
     "output_type": "stream",
     "text": [
      "Using TensorFlow backend.\n"
     ]
    }
   ],
   "source": [
    "import os\n",
    "import random\n",
    "\n",
    "import meeshkan\n",
    "\n",
    "import keras\n",
    "\n",
    "import matplotlib.pyplot as plt\n",
    "%matplotlib inline\n",
    "\n",
    "import numpy as np\n",
    "import pandas as pd\n",
    "\n",
    "import sklearn\n",
    "from sklearn.model_selection import cross_val_score\n",
    "from sklearn.metrics import mean_absolute_error, mean_squared_error, make_scorer\n",
    "from sklearn.model_selection import GridSearchCV\n",
    "from sklearn.pipeline import Pipeline\n",
    "from sklearn.gaussian_process import GaussianProcessRegressor"
   ]
  },
  {
   "cell_type": "markdown",
   "metadata": {},
   "source": [
    "Check that data has been downloaded and it's available:"
   ]
  },
  {
   "cell_type": "code",
   "execution_count": 3,
   "metadata": {},
   "outputs": [
    {
     "name": "stdout",
     "output_type": "stream",
     "text": [
      "['test_images', 'breed_labels.csv', 'test_metadata.zip', 'test_images.zip', 'test', 'train_images.zip', 'train_metadata', 'color_labels.csv', 'test_sentiment', '.gitkeep', 'test_metadata', 'test.zip', 'train_sentiment', 'test_sentiment.zip', 'train_sentiment.zip', 'train', 'filename_without_extension', 'train_metadata.zip', 'train_images', 'state_labels.csv', 'train.zip']\n"
     ]
    }
   ],
   "source": [
    "print(os.listdir(\"../input\"))"
   ]
  },
  {
   "cell_type": "markdown",
   "metadata": {},
   "source": [
    "### Setting up Meeshkan"
   ]
  },
  {
   "cell_type": "markdown",
   "metadata": {},
   "source": [
    "To use Meeshkan, you need to \n",
    "1. register at [meeshkan.com](https://meeshkan.com) and get your API key\n",
    "1. setup Slack integration as instructed in the [docs](https://www.meeshkan.com/docs)\n",
    "\n",
    "The API key is configured with the `meeshkan.init(token=YOUR_API_KEY)` command. **Make sure to replace the example API key below with your own key!**"
   ]
  },
  {
   "cell_type": "code",
   "execution_count": 4,
   "metadata": {},
   "outputs": [
    {
     "name": "stdout",
     "output_type": "stream",
     "text": [
      "Service started.\n"
     ]
    }
   ],
   "source": [
    "# Run this the first time you're using Meeshkan \n",
    "# meeshkan.init(token=\"YOUR_API_KEY\")  # REPLACE THIS WITH YOUR API_KEY\n",
    "meeshkan.init()  # Run this if `meeshkan.init(token=...)` has been called before (~.meeshkan/credentials exists)"
   ]
  },
  {
   "cell_type": "markdown",
   "metadata": {},
   "source": [
    "Meeshkan agent can be used to schedule multiple machine learning jobs, but here we can simply use the [@meeshkan.as_blocking_job](https://meeshkan-client.readthedocs.io/en/latest/#meeshkan.as_blocking_job) decorator to define our jobs. Execute the cell below and make sure you get a Slack notification for a job being started and finished:"
   ]
  },
  {
   "cell_type": "code",
   "execution_count": 5,
   "metadata": {},
   "outputs": [],
   "source": [
    "import time\n",
    "@meeshkan.as_blocking_job(job_name=\"test-job\", report_interval_secs=10)\n",
    "def train():\n",
    "    for i in range(10):\n",
    "        meeshkan.report_scalar(\"Random number\", random.uniform(0, 1))\n",
    "        time.sleep(2)\n",
    "        \n",
    "train()"
   ]
  },
  {
   "cell_type": "markdown",
   "metadata": {},
   "source": [
    "If everything works as expected, we can get rocking with machine learning!"
   ]
  },
  {
   "cell_type": "markdown",
   "metadata": {},
   "source": [
    "### Run your job"
   ]
  },
  {
   "cell_type": "markdown",
   "metadata": {},
   "source": [
    "To keep this demo as simple as possible, we will only use the `Age` column to try and predict `AdoptionSpeed`. First load data and peek into first rows:"
   ]
  },
  {
   "cell_type": "code",
   "execution_count": 6,
   "metadata": {},
   "outputs": [
    {
     "data": {
      "text/html": [
       "<div>\n",
       "<style scoped>\n",
       "    .dataframe tbody tr th:only-of-type {\n",
       "        vertical-align: middle;\n",
       "    }\n",
       "\n",
       "    .dataframe tbody tr th {\n",
       "        vertical-align: top;\n",
       "    }\n",
       "\n",
       "    .dataframe thead th {\n",
       "        text-align: right;\n",
       "    }\n",
       "</style>\n",
       "<table border=\"1\" class=\"dataframe\">\n",
       "  <thead>\n",
       "    <tr style=\"text-align: right;\">\n",
       "      <th></th>\n",
       "      <th>Type</th>\n",
       "      <th>Name</th>\n",
       "      <th>Age</th>\n",
       "      <th>Breed1</th>\n",
       "      <th>Breed2</th>\n",
       "      <th>Gender</th>\n",
       "      <th>Color1</th>\n",
       "      <th>Color2</th>\n",
       "      <th>Color3</th>\n",
       "      <th>MaturitySize</th>\n",
       "      <th>...</th>\n",
       "      <th>Health</th>\n",
       "      <th>Quantity</th>\n",
       "      <th>Fee</th>\n",
       "      <th>State</th>\n",
       "      <th>RescuerID</th>\n",
       "      <th>VideoAmt</th>\n",
       "      <th>Description</th>\n",
       "      <th>PetID</th>\n",
       "      <th>PhotoAmt</th>\n",
       "      <th>AdoptionSpeed</th>\n",
       "    </tr>\n",
       "  </thead>\n",
       "  <tbody>\n",
       "    <tr>\n",
       "      <th>0</th>\n",
       "      <td>2</td>\n",
       "      <td>Nibble</td>\n",
       "      <td>3</td>\n",
       "      <td>299</td>\n",
       "      <td>0</td>\n",
       "      <td>1</td>\n",
       "      <td>1</td>\n",
       "      <td>7</td>\n",
       "      <td>0</td>\n",
       "      <td>1</td>\n",
       "      <td>...</td>\n",
       "      <td>1</td>\n",
       "      <td>1</td>\n",
       "      <td>100</td>\n",
       "      <td>41326</td>\n",
       "      <td>8480853f516546f6cf33aa88cd76c379</td>\n",
       "      <td>0</td>\n",
       "      <td>Nibble is a 3+ month old ball of cuteness. He ...</td>\n",
       "      <td>86e1089a3</td>\n",
       "      <td>1.0</td>\n",
       "      <td>2</td>\n",
       "    </tr>\n",
       "    <tr>\n",
       "      <th>1</th>\n",
       "      <td>2</td>\n",
       "      <td>No Name Yet</td>\n",
       "      <td>1</td>\n",
       "      <td>265</td>\n",
       "      <td>0</td>\n",
       "      <td>1</td>\n",
       "      <td>1</td>\n",
       "      <td>2</td>\n",
       "      <td>0</td>\n",
       "      <td>2</td>\n",
       "      <td>...</td>\n",
       "      <td>1</td>\n",
       "      <td>1</td>\n",
       "      <td>0</td>\n",
       "      <td>41401</td>\n",
       "      <td>3082c7125d8fb66f7dd4bff4192c8b14</td>\n",
       "      <td>0</td>\n",
       "      <td>I just found it alone yesterday near my apartm...</td>\n",
       "      <td>6296e909a</td>\n",
       "      <td>2.0</td>\n",
       "      <td>0</td>\n",
       "    </tr>\n",
       "    <tr>\n",
       "      <th>2</th>\n",
       "      <td>1</td>\n",
       "      <td>Brisco</td>\n",
       "      <td>1</td>\n",
       "      <td>307</td>\n",
       "      <td>0</td>\n",
       "      <td>1</td>\n",
       "      <td>2</td>\n",
       "      <td>7</td>\n",
       "      <td>0</td>\n",
       "      <td>2</td>\n",
       "      <td>...</td>\n",
       "      <td>1</td>\n",
       "      <td>1</td>\n",
       "      <td>0</td>\n",
       "      <td>41326</td>\n",
       "      <td>fa90fa5b1ee11c86938398b60abc32cb</td>\n",
       "      <td>0</td>\n",
       "      <td>Their pregnant mother was dumped by her irresp...</td>\n",
       "      <td>3422e4906</td>\n",
       "      <td>7.0</td>\n",
       "      <td>3</td>\n",
       "    </tr>\n",
       "    <tr>\n",
       "      <th>3</th>\n",
       "      <td>1</td>\n",
       "      <td>Miko</td>\n",
       "      <td>4</td>\n",
       "      <td>307</td>\n",
       "      <td>0</td>\n",
       "      <td>2</td>\n",
       "      <td>1</td>\n",
       "      <td>2</td>\n",
       "      <td>0</td>\n",
       "      <td>2</td>\n",
       "      <td>...</td>\n",
       "      <td>1</td>\n",
       "      <td>1</td>\n",
       "      <td>150</td>\n",
       "      <td>41401</td>\n",
       "      <td>9238e4f44c71a75282e62f7136c6b240</td>\n",
       "      <td>0</td>\n",
       "      <td>Good guard dog, very alert, active, obedience ...</td>\n",
       "      <td>5842f1ff5</td>\n",
       "      <td>8.0</td>\n",
       "      <td>2</td>\n",
       "    </tr>\n",
       "    <tr>\n",
       "      <th>4</th>\n",
       "      <td>1</td>\n",
       "      <td>Hunter</td>\n",
       "      <td>1</td>\n",
       "      <td>307</td>\n",
       "      <td>0</td>\n",
       "      <td>1</td>\n",
       "      <td>1</td>\n",
       "      <td>0</td>\n",
       "      <td>0</td>\n",
       "      <td>2</td>\n",
       "      <td>...</td>\n",
       "      <td>1</td>\n",
       "      <td>1</td>\n",
       "      <td>0</td>\n",
       "      <td>41326</td>\n",
       "      <td>95481e953f8aed9ec3d16fc4509537e8</td>\n",
       "      <td>0</td>\n",
       "      <td>This handsome yet cute boy is up for adoption....</td>\n",
       "      <td>850a43f90</td>\n",
       "      <td>3.0</td>\n",
       "      <td>2</td>\n",
       "    </tr>\n",
       "  </tbody>\n",
       "</table>\n",
       "<p>5 rows × 24 columns</p>\n",
       "</div>"
      ],
      "text/plain": [
       "   Type         Name  Age  Breed1  Breed2  Gender  Color1  Color2  Color3  \\\n",
       "0     2       Nibble    3     299       0       1       1       7       0   \n",
       "1     2  No Name Yet    1     265       0       1       1       2       0   \n",
       "2     1       Brisco    1     307       0       1       2       7       0   \n",
       "3     1         Miko    4     307       0       2       1       2       0   \n",
       "4     1       Hunter    1     307       0       1       1       0       0   \n",
       "\n",
       "   MaturitySize  ...  Health  Quantity  Fee  State  \\\n",
       "0             1  ...       1         1  100  41326   \n",
       "1             2  ...       1         1    0  41401   \n",
       "2             2  ...       1         1    0  41326   \n",
       "3             2  ...       1         1  150  41401   \n",
       "4             2  ...       1         1    0  41326   \n",
       "\n",
       "                          RescuerID  VideoAmt  \\\n",
       "0  8480853f516546f6cf33aa88cd76c379         0   \n",
       "1  3082c7125d8fb66f7dd4bff4192c8b14         0   \n",
       "2  fa90fa5b1ee11c86938398b60abc32cb         0   \n",
       "3  9238e4f44c71a75282e62f7136c6b240         0   \n",
       "4  95481e953f8aed9ec3d16fc4509537e8         0   \n",
       "\n",
       "                                         Description      PetID PhotoAmt  \\\n",
       "0  Nibble is a 3+ month old ball of cuteness. He ...  86e1089a3      1.0   \n",
       "1  I just found it alone yesterday near my apartm...  6296e909a      2.0   \n",
       "2  Their pregnant mother was dumped by her irresp...  3422e4906      7.0   \n",
       "3  Good guard dog, very alert, active, obedience ...  5842f1ff5      8.0   \n",
       "4  This handsome yet cute boy is up for adoption....  850a43f90      3.0   \n",
       "\n",
       "   AdoptionSpeed  \n",
       "0              2  \n",
       "1              0  \n",
       "2              3  \n",
       "3              2  \n",
       "4              2  \n",
       "\n",
       "[5 rows x 24 columns]"
      ]
     },
     "execution_count": 6,
     "metadata": {},
     "output_type": "execute_result"
    }
   ],
   "source": [
    "train_df = pd.read_csv(\"../input/train/train.csv\")\n",
    "train_df.head()"
   ]
  },
  {
   "cell_type": "markdown",
   "metadata": {},
   "source": [
    "Check what the columns look like:"
   ]
  },
  {
   "cell_type": "code",
   "execution_count": 7,
   "metadata": {},
   "outputs": [
    {
     "name": "stdout",
     "output_type": "stream",
     "text": [
      "<class 'pandas.core.frame.DataFrame'>\n",
      "RangeIndex: 14993 entries, 0 to 14992\n",
      "Data columns (total 24 columns):\n",
      "Type             14993 non-null int64\n",
      "Name             13736 non-null object\n",
      "Age              14993 non-null int64\n",
      "Breed1           14993 non-null int64\n",
      "Breed2           14993 non-null int64\n",
      "Gender           14993 non-null int64\n",
      "Color1           14993 non-null int64\n",
      "Color2           14993 non-null int64\n",
      "Color3           14993 non-null int64\n",
      "MaturitySize     14993 non-null int64\n",
      "FurLength        14993 non-null int64\n",
      "Vaccinated       14993 non-null int64\n",
      "Dewormed         14993 non-null int64\n",
      "Sterilized       14993 non-null int64\n",
      "Health           14993 non-null int64\n",
      "Quantity         14993 non-null int64\n",
      "Fee              14993 non-null int64\n",
      "State            14993 non-null int64\n",
      "RescuerID        14993 non-null object\n",
      "VideoAmt         14993 non-null int64\n",
      "Description      14981 non-null object\n",
      "PetID            14993 non-null object\n",
      "PhotoAmt         14993 non-null float64\n",
      "AdoptionSpeed    14993 non-null int64\n",
      "dtypes: float64(1), int64(19), object(4)\n",
      "memory usage: 2.7+ MB\n"
     ]
    }
   ],
   "source": [
    "train_df.info()"
   ]
  },
  {
   "cell_type": "markdown",
   "metadata": {},
   "source": [
    "Let us check how `Age` compares to `AdoptionSpeed`:"
   ]
  },
  {
   "cell_type": "code",
   "execution_count": 8,
   "metadata": {},
   "outputs": [
    {
     "data": {
      "text/plain": [
       "<matplotlib.axes._subplots.AxesSubplot at 0x130cab2e8>"
      ]
     },
     "execution_count": 8,
     "metadata": {},
     "output_type": "execute_result"
    },
    {
     "data": {
      "image/png": "[encoded data removed]",
      "text/plain": [
       "<Figure size 432x288 with 1 Axes>"
      ]
     },
     "metadata": {
      "needs_background": "light"
     },
     "output_type": "display_data"
    }
   ],
   "source": [
    "train_df.plot(x=\"Age\", y=\"AdoptionSpeed\", kind=\"scatter\")"
   ]
  },
  {
   "cell_type": "markdown",
   "metadata": {},
   "source": [
    "Obviously the correlation is not very good and age of zero should be taken into account. For the purposes of this example, we'll anyway just use `Age` to try to predict `AdoptionSpeed`.\n",
    "\n",
    "Let us create a training and validation set from `train_df`:"
   ]
  },
  {
   "cell_type": "code",
   "execution_count": 9,
   "metadata": {},
   "outputs": [
    {
     "name": "stderr",
     "output_type": "stream",
     "text": [
      "/Users/kimmo/.pyenv/versions/3.6.5/envs/kaggle-3.6.5/lib/python3.6/site-packages/sklearn/utils/validation.py:595: DataConversionWarning: Data with input dtype int64 was converted to float64 by MinMaxScaler.\n",
      "  warnings.warn(msg, DataConversionWarning)\n",
      "/Users/kimmo/.pyenv/versions/3.6.5/envs/kaggle-3.6.5/lib/python3.6/site-packages/sklearn/utils/validation.py:595: DataConversionWarning: Data with input dtype int64 was converted to float64 by MinMaxScaler.\n",
      "  warnings.warn(msg, DataConversionWarning)\n"
     ]
    }
   ],
   "source": [
    "from sklearn.model_selection import train_test_split\n",
    "\n",
    "TRAIN_COLUMNS = ['Age']\n",
    "\n",
    "X = train_df[TRAIN_COLUMNS].values\n",
    "y = train_df['AdoptionSpeed'].values\n",
    "\n",
    "# Normalize input and output\n",
    "X_scaler = sklearn.preprocessing.MinMaxScaler()\n",
    "y_scaler = sklearn.preprocessing.MinMaxScaler()\n",
    "X = X_scaler.fit_transform(X)\n",
    "y = y_scaler.fit_transform(y.reshape(-1, 1))\n",
    "\n",
    "X_train, X_val, y_train, y_val = train_test_split(X, y, test_size=0.20, shuffle=True)"
   ]
  },
  {
   "cell_type": "code",
   "execution_count": 10,
   "metadata": {},
   "outputs": [
    {
     "name": "stdout",
     "output_type": "stream",
     "text": [
      "X_train: (11994, 1)\n",
      "y_train: (11994, 1)\n",
      "X_val: (2999, 1)\n",
      "y_val: (2999, 1)\n"
     ]
    }
   ],
   "source": [
    "print(\"X_train:\", X_train.shape)\n",
    "print(\"y_train:\", y_train.shape)\n",
    "print(\"X_val:\", X_val.shape)\n",
    "print(\"y_val:\", y_val.shape)"
   ]
  },
  {
   "cell_type": "code",
   "execution_count": 11,
   "metadata": {},
   "outputs": [
    {
     "data": {
      "text/plain": [
       "[<matplotlib.lines.Line2D at 0x1336a9f98>]"
      ]
     },
     "execution_count": 11,
     "metadata": {},
     "output_type": "execute_result"
    },
    {
     "data": {
      "image/png": "[encoded data removed]",
      "text/plain": [
       "<Figure size 432x288 with 1 Axes>"
      ]
     },
     "metadata": {
      "needs_background": "light"
     },
     "output_type": "display_data"
    }
   ],
   "source": [
    "plt.plot(X_train, y_train, 'bo')"
   ]
  },
  {
   "cell_type": "code",
   "execution_count": 12,
   "metadata": {
    "scrolled": true
   },
   "outputs": [
    {
     "name": "stdout",
     "output_type": "stream",
     "text": [
      "Training -----------\n",
      "Epoch 1/100\n",
      "11994/11994 [==============================] - 0s 12us/step - loss: 0.3806 - mean_absolute_error: 0.5450\n",
      "Epoch 2/100\n",
      "11994/11994 [==============================] - 0s 3us/step - loss: 0.2351 - mean_absolute_error: 0.4033\n",
      "Epoch 3/100\n",
      "11994/11994 [==============================] - 0s 3us/step - loss: 0.1590 - mean_absolute_error: 0.3333\n",
      "Epoch 4/100\n",
      "11994/11994 [==============================] - 0s 3us/step - loss: 0.1214 - mean_absolute_error: 0.2899\n",
      "Epoch 5/100\n",
      "11994/11994 [==============================] - 0s 4us/step - loss: 0.1030 - mean_absolute_error: 0.2622\n",
      "Epoch 6/100\n",
      "11994/11994 [==============================] - 0s 3us/step - loss: 0.0942 - mean_absolute_error: 0.2586\n",
      "Epoch 7/100\n",
      "11994/11994 [==============================] - 0s 3us/step - loss: 0.0899 - mean_absolute_error: 0.2587\n",
      "Epoch 8/100\n",
      "11994/11994 [==============================] - 0s 3us/step - loss: 0.0879 - mean_absolute_error: 0.2589\n",
      "Epoch 9/100\n",
      "11994/11994 [==============================] - 0s 3us/step - loss: 0.0869 - mean_absolute_error: 0.2589\n",
      "Epoch 10/100\n",
      "11994/11994 [==============================] - 0s 3us/step - loss: 0.0865 - mean_absolute_error: 0.2589\n",
      "Epoch 11/100\n",
      "11994/11994 [==============================] - 0s 3us/step - loss: 0.0863 - mean_absolute_error: 0.2590\n",
      "Epoch 12/100\n",
      "11994/11994 [==============================] - 0s 3us/step - loss: 0.0862 - mean_absolute_error: 0.2590\n",
      "Epoch 13/100\n",
      "11994/11994 [==============================] - 0s 4us/step - loss: 0.0861 - mean_absolute_error: 0.2590\n",
      "Epoch 14/100\n",
      "11994/11994 [==============================] - 0s 4us/step - loss: 0.0861 - mean_absolute_error: 0.2590\n",
      "Epoch 15/100\n",
      "11994/11994 [==============================] - 0s 3us/step - loss: 0.0861 - mean_absolute_error: 0.2590\n",
      "Epoch 16/100\n",
      "11994/11994 [==============================] - 0s 3us/step - loss: 0.0861 - mean_absolute_error: 0.2590\n",
      "Epoch 17/100\n",
      "11994/11994 [==============================] - 0s 3us/step - loss: 0.0860 - mean_absolute_error: 0.2590\n",
      "Epoch 18/100\n",
      "11994/11994 [==============================] - 0s 3us/step - loss: 0.0860 - mean_absolute_error: 0.2590\n",
      "Epoch 19/100\n",
      "11994/11994 [==============================] - 0s 3us/step - loss: 0.0860 - mean_absolute_error: 0.2590\n",
      "Epoch 20/100\n",
      "11994/11994 [==============================] - 0s 3us/step - loss: 0.0860 - mean_absolute_error: 0.2590\n",
      "Epoch 21/100\n",
      "11994/11994 [==============================] - 0s 3us/step - loss: 0.0860 - mean_absolute_error: 0.2590\n",
      "Epoch 22/100\n",
      "11994/11994 [==============================] - 0s 3us/step - loss: 0.0860 - mean_absolute_error: 0.2590\n",
      "Epoch 23/100\n",
      "11994/11994 [==============================] - 0s 3us/step - loss: 0.0860 - mean_absolute_error: 0.2590\n",
      "Epoch 24/100\n",
      "11994/11994 [==============================] - 0s 3us/step - loss: 0.0860 - mean_absolute_error: 0.2590\n",
      "Epoch 25/100\n",
      "11994/11994 [==============================] - 0s 3us/step - loss: 0.0860 - mean_absolute_error: 0.2590\n",
      "Epoch 26/100\n",
      "11994/11994 [==============================] - 0s 3us/step - loss: 0.0860 - mean_absolute_error: 0.2590\n",
      "Epoch 27/100\n",
      "11994/11994 [==============================] - 0s 3us/step - loss: 0.0860 - mean_absolute_error: 0.2590\n",
      "Epoch 28/100\n",
      "11994/11994 [==============================] - 0s 3us/step - loss: 0.0860 - mean_absolute_error: 0.2590\n",
      "Epoch 29/100\n",
      "11994/11994 [==============================] - 0s 3us/step - loss: 0.0860 - mean_absolute_error: 0.2590\n",
      "Epoch 30/100\n",
      "11994/11994 [==============================] - 0s 3us/step - loss: 0.0860 - mean_absolute_error: 0.2589\n",
      "Epoch 31/100\n",
      "11994/11994 [==============================] - 0s 3us/step - loss: 0.0860 - mean_absolute_error: 0.2589\n",
      "Epoch 32/100\n",
      "11994/11994 [==============================] - 0s 3us/step - loss: 0.0860 - mean_absolute_error: 0.2589\n",
      "Epoch 33/100\n",
      "11994/11994 [==============================] - 0s 3us/step - loss: 0.0860 - mean_absolute_error: 0.2589\n",
      "Epoch 34/100\n",
      "11994/11994 [==============================] - 0s 4us/step - loss: 0.0860 - mean_absolute_error: 0.2589\n",
      "Epoch 35/100\n",
      "11994/11994 [==============================] - 0s 4us/step - loss: 0.0860 - mean_absolute_error: 0.2589\n",
      "Epoch 36/100\n",
      "11994/11994 [==============================] - 0s 3us/step - loss: 0.0860 - mean_absolute_error: 0.2589\n",
      "Epoch 37/100\n",
      "11994/11994 [==============================] - 0s 3us/step - loss: 0.0860 - mean_absolute_error: 0.2589\n",
      "Epoch 38/100\n",
      "11994/11994 [==============================] - 0s 3us/step - loss: 0.0860 - mean_absolute_error: 0.2589\n",
      "Epoch 39/100\n",
      "11994/11994 [==============================] - 0s 3us/step - loss: 0.0860 - mean_absolute_error: 0.2589\n",
      "Epoch 40/100\n",
      "11994/11994 [==============================] - 0s 3us/step - loss: 0.0860 - mean_absolute_error: 0.2589\n",
      "Epoch 41/100\n",
      "11994/11994 [==============================] - 0s 3us/step - loss: 0.0860 - mean_absolute_error: 0.2589\n",
      "Epoch 42/100\n",
      "11994/11994 [==============================] - 0s 3us/step - loss: 0.0860 - mean_absolute_error: 0.2589\n",
      "Epoch 43/100\n",
      "11994/11994 [==============================] - 0s 3us/step - loss: 0.0860 - mean_absolute_error: 0.2589\n",
      "Epoch 44/100\n",
      "11994/11994 [==============================] - 0s 3us/step - loss: 0.0860 - mean_absolute_error: 0.2589\n",
      "Epoch 45/100\n",
      "11994/11994 [==============================] - 0s 3us/step - loss: 0.0860 - mean_absolute_error: 0.2589\n",
      "Epoch 46/100\n",
      "11994/11994 [==============================] - 0s 3us/step - loss: 0.0860 - mean_absolute_error: 0.2589\n",
      "Epoch 47/100\n",
      "11994/11994 [==============================] - 0s 3us/step - loss: 0.0860 - mean_absolute_error: 0.2589\n",
      "Epoch 48/100\n",
      "11994/11994 [==============================] - 0s 3us/step - loss: 0.0860 - mean_absolute_error: 0.2589\n",
      "Epoch 49/100\n",
      "11994/11994 [==============================] - 0s 3us/step - loss: 0.0860 - mean_absolute_error: 0.2589\n",
      "Epoch 50/100\n",
      "11994/11994 [==============================] - 0s 3us/step - loss: 0.0860 - mean_absolute_error: 0.2589\n",
      "Epoch 51/100\n",
      "11994/11994 [==============================] - 0s 3us/step - loss: 0.0860 - mean_absolute_error: 0.2589\n",
      "Epoch 52/100\n",
      "11994/11994 [==============================] - 0s 3us/step - loss: 0.0860 - mean_absolute_error: 0.2589\n",
      "Epoch 53/100\n",
      "11994/11994 [==============================] - 0s 3us/step - loss: 0.0860 - mean_absolute_error: 0.2589\n",
      "Epoch 54/100\n",
      "11994/11994 [==============================] - 0s 3us/step - loss: 0.0860 - mean_absolute_error: 0.2589\n",
      "Epoch 55/100\n",
      "11994/11994 [==============================] - 0s 3us/step - loss: 0.0860 - mean_absolute_error: 0.2589\n",
      "Epoch 56/100\n",
      "11994/11994 [==============================] - 0s 3us/step - loss: 0.0860 - mean_absolute_error: 0.2589\n",
      "Epoch 57/100\n",
      "11994/11994 [==============================] - 0s 3us/step - loss: 0.0860 - mean_absolute_error: 0.2589\n",
      "Epoch 58/100\n",
      "11994/11994 [==============================] - 0s 3us/step - loss: 0.0860 - mean_absolute_error: 0.2589\n",
      "Epoch 59/100\n",
      "11994/11994 [==============================] - 0s 3us/step - loss: 0.0860 - mean_absolute_error: 0.2589\n",
      "Epoch 60/100\n",
      "11994/11994 [==============================] - 0s 3us/step - loss: 0.0860 - mean_absolute_error: 0.2589\n",
      "Epoch 61/100\n",
      "11994/11994 [==============================] - 0s 3us/step - loss: 0.0860 - mean_absolute_error: 0.2589\n",
      "Epoch 62/100\n",
      "11994/11994 [==============================] - 0s 3us/step - loss: 0.0860 - mean_absolute_error: 0.2589\n",
      "Epoch 63/100\n",
      "11994/11994 [==============================] - 0s 3us/step - loss: 0.0860 - mean_absolute_error: 0.2589\n",
      "Epoch 64/100\n",
      "11994/11994 [==============================] - 0s 3us/step - loss: 0.0860 - mean_absolute_error: 0.2589\n",
      "Epoch 65/100\n",
      "11994/11994 [==============================] - 0s 3us/step - loss: 0.0860 - mean_absolute_error: 0.2589\n",
      "Epoch 66/100\n",
      "11994/11994 [==============================] - 0s 3us/step - loss: 0.0860 - mean_absolute_error: 0.2589\n",
      "Epoch 67/100\n",
      "11994/11994 [==============================] - 0s 3us/step - loss: 0.0859 - mean_absolute_error: 0.2588\n",
      "Epoch 68/100\n",
      "11994/11994 [==============================] - 0s 3us/step - loss: 0.0859 - mean_absolute_error: 0.2588\n",
      "Epoch 69/100\n",
      "11994/11994 [==============================] - 0s 3us/step - loss: 0.0859 - mean_absolute_error: 0.2588\n",
      "Epoch 70/100\n"
     ]
    },
    {
     "name": "stdout",
     "output_type": "stream",
     "text": [
      "11994/11994 [==============================] - 0s 3us/step - loss: 0.0859 - mean_absolute_error: 0.2588\n",
      "Epoch 71/100\n",
      "11994/11994 [==============================] - 0s 3us/step - loss: 0.0859 - mean_absolute_error: 0.2588\n",
      "Epoch 72/100\n",
      "11994/11994 [==============================] - 0s 3us/step - loss: 0.0859 - mean_absolute_error: 0.2588\n",
      "Epoch 73/100\n",
      "11994/11994 [==============================] - 0s 3us/step - loss: 0.0859 - mean_absolute_error: 0.2588\n",
      "Epoch 74/100\n",
      "11994/11994 [==============================] - 0s 3us/step - loss: 0.0859 - mean_absolute_error: 0.2588\n",
      "Epoch 75/100\n",
      "11994/11994 [==============================] - 0s 3us/step - loss: 0.0859 - mean_absolute_error: 0.2588\n",
      "Epoch 76/100\n",
      "11994/11994 [==============================] - 0s 3us/step - loss: 0.0859 - mean_absolute_error: 0.2588\n",
      "Epoch 77/100\n",
      "11994/11994 [==============================] - 0s 3us/step - loss: 0.0859 - mean_absolute_error: 0.2588\n",
      "Epoch 78/100\n",
      "11994/11994 [==============================] - 0s 3us/step - loss: 0.0859 - mean_absolute_error: 0.2588\n",
      "Epoch 79/100\n",
      "11994/11994 [==============================] - 0s 3us/step - loss: 0.0859 - mean_absolute_error: 0.2588\n",
      "Epoch 80/100\n",
      "11994/11994 [==============================] - 0s 3us/step - loss: 0.0859 - mean_absolute_error: 0.2588\n",
      "Epoch 81/100\n",
      "11994/11994 [==============================] - 0s 3us/step - loss: 0.0859 - mean_absolute_error: 0.2588\n",
      "Epoch 82/100\n",
      "11994/11994 [==============================] - 0s 3us/step - loss: 0.0859 - mean_absolute_error: 0.2588\n",
      "Epoch 83/100\n",
      "11994/11994 [==============================] - 0s 3us/step - loss: 0.0859 - mean_absolute_error: 0.2588\n",
      "Epoch 84/100\n",
      "11994/11994 [==============================] - 0s 3us/step - loss: 0.0859 - mean_absolute_error: 0.2588\n",
      "Epoch 85/100\n",
      "11994/11994 [==============================] - 0s 3us/step - loss: 0.0859 - mean_absolute_error: 0.2588\n",
      "Epoch 86/100\n",
      "11994/11994 [==============================] - 0s 3us/step - loss: 0.0859 - mean_absolute_error: 0.2588\n",
      "Epoch 87/100\n",
      "11994/11994 [==============================] - 0s 3us/step - loss: 0.0859 - mean_absolute_error: 0.2588\n",
      "Epoch 88/100\n",
      "11994/11994 [==============================] - 0s 3us/step - loss: 0.0859 - mean_absolute_error: 0.2588\n",
      "Epoch 89/100\n",
      "11994/11994 [==============================] - 0s 3us/step - loss: 0.0859 - mean_absolute_error: 0.2588\n",
      "Epoch 90/100\n",
      "11994/11994 [==============================] - 0s 3us/step - loss: 0.0859 - mean_absolute_error: 0.2588\n",
      "Epoch 91/100\n",
      "11994/11994 [==============================] - 0s 3us/step - loss: 0.0859 - mean_absolute_error: 0.2588\n",
      "Epoch 92/100\n",
      "11994/11994 [==============================] - 0s 3us/step - loss: 0.0859 - mean_absolute_error: 0.2588\n",
      "Epoch 93/100\n",
      "11994/11994 [==============================] - 0s 3us/step - loss: 0.0859 - mean_absolute_error: 0.2588\n",
      "Epoch 94/100\n",
      "11994/11994 [==============================] - 0s 3us/step - loss: 0.0859 - mean_absolute_error: 0.2588\n",
      "Epoch 95/100\n",
      "11994/11994 [==============================] - 0s 3us/step - loss: 0.0859 - mean_absolute_error: 0.2588\n",
      "Epoch 96/100\n",
      "11994/11994 [==============================] - 0s 3us/step - loss: 0.0859 - mean_absolute_error: 0.2588\n",
      "Epoch 97/100\n",
      "11994/11994 [==============================] - 0s 3us/step - loss: 0.0859 - mean_absolute_error: 0.2588\n",
      "Epoch 98/100\n",
      "11994/11994 [==============================] - 0s 3us/step - loss: 0.0859 - mean_absolute_error: 0.2588\n",
      "Epoch 99/100\n",
      "11994/11994 [==============================] - 0s 3us/step - loss: 0.0859 - mean_absolute_error: 0.2588\n",
      "Epoch 100/100\n",
      "11994/11994 [==============================] - 0s 3us/step - loss: 0.0859 - mean_absolute_error: 0.2588\n"
     ]
    },
    {
     "data": {
      "text/plain": [
       "<keras.callbacks.History at 0x133745d68>"
      ]
     },
     "execution_count": 12,
     "metadata": {},
     "output_type": "execute_result"
    }
   ],
   "source": [
    "from keras.models import Sequential\n",
    "from keras.layers import Dense, Activation\n",
    "from keras.callbacks import LambdaCallback\n",
    "from keras.optimizers import SGD\n",
    "\n",
    "def build_model():\n",
    "    model = Sequential()\n",
    "    model.add(Dense(10, input_dim=len(TRAIN_COLUMNS)))\n",
    "    model.add(Activation('relu'))\n",
    "    model.add(Dense(5))\n",
    "    model.add(Activation('relu'))\n",
    "    model.add(Dense(1, input_dim=len(TRAIN_COLUMNS)))\n",
    "\n",
    "    model.compile(loss='mse', optimizer=SGD(lr=1e-3), metrics=['mae'])\n",
    "    return model\n",
    "\n",
    "def on_epoch_end(epoch, logs):\n",
    "    try:\n",
    "        meeshkan.report_scalar(\"Train loss\", float(logs['loss']), \"Train mae\", float(logs['mean_absolute_error']))\n",
    "    except Exception as e:\n",
    "        print(e)\n",
    "\n",
    "EPOCHS = 100\n",
    "VALIDATION_INTERVAL = 1\n",
    "\n",
    "@meeshkan.as_blocking_job(job_name=\"train-keras\", report_interval_secs=60)\n",
    "def train(model):\n",
    "    print('Training -----------')\n",
    "    \n",
    "    import time\n",
    "    time.sleep(1)\n",
    "    # Add a condition to send notification when MAE is small enough\n",
    "    meeshkan.add_condition(\"Train mae\", condition=lambda value: value < 0.3)\n",
    "    \n",
    "    # Report scalars to Meeshkan at every epoch end\n",
    "    meeshkan_callback = LambdaCallback(on_epoch_end=on_epoch_end)\n",
    "    history = model.fit(X_train,\n",
    "                        y_train,\n",
    "                        epochs=EPOCHS,\n",
    "                        batch_size=256,\n",
    "                        callbacks = [meeshkan_callback])\n",
    "    return history\n",
    "\n",
    "model = build_model()\n",
    "\n",
    "train(model)"
   ]
  },
  {
   "cell_type": "markdown",
   "metadata": {},
   "source": [
    "You should have received notifications for job being started and, finally, for the job being finished. Here are the notifications I received:\n",
    "\n",
    "<img src=\"img/notifications.png\" style=\"height:300px\">"
   ]
  },
  {
   "cell_type": "markdown",
   "metadata": {},
   "source": [
    "Let's plot the predictions for fun:"
   ]
  },
  {
   "cell_type": "code",
   "execution_count": 13,
   "metadata": {},
   "outputs": [
    {
     "data": {
      "text/plain": [
       "<matplotlib.legend.Legend at 0x1339fb7f0>"
      ]
     },
     "execution_count": 13,
     "metadata": {},
     "output_type": "execute_result"
    },
    {
     "data": {
      "image/png": "[encoded data removed]",
      "text/plain": [
       "<Figure size 432x288 with 1 Axes>"
      ]
     },
     "metadata": {
      "needs_background": "light"
     },
     "output_type": "display_data"
    }
   ],
   "source": [
    "y_pred = model.predict(X_val)\n",
    "\n",
    "# Perform inverse scalings\n",
    "X_val_orig = X_scaler.inverse_transform(X_val)\n",
    "\n",
    "plt.plot(X_val_orig, y_scaler.inverse_transform(y_pred), 'bo', label='Prediction')\n",
    "plt.plot(X_val_orig, y_scaler.inverse_transform(y_val), 'rs', label='Adoption speed')\n",
    "plt.legend()"
   ]
  },
  {
   "cell_type": "markdown",
   "metadata": {},
   "source": [
    "### Teardown"
   ]
  },
  {
   "cell_type": "markdown",
   "metadata": {},
   "source": [
    "Once we're done, we can stop the Meeshkan agent cleanly:"
   ]
  },
  {
   "cell_type": "code",
   "execution_count": 14,
   "metadata": {},
   "outputs": [
    {
     "name": "stdout",
     "output_type": "stream",
     "text": [
      "Stopping service...\n",
      "Service stopped.\n"
     ]
    }
   ],
   "source": [
    "meeshkan.stop()"
   ]
  }
 ],
 "metadata": {
  "kernelspec": {
   "display_name": "Python 3",
   "language": "python",
   "name": "python3"
  },
  "language_info": {
   "codemirror_mode": {
    "name": "ipython",
    "version": 3
   },
   "file_extension": ".py",
   "mimetype": "text/x-python",
   "name": "python",
   "nbconvert_exporter": "python",
   "pygments_lexer": "ipython3",
   "version": "3.6.5"
  }
 },
 "nbformat": 4,
 "nbformat_minor": 2
}
