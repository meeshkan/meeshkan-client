{
 "cells": [
  {
   "cell_type": "markdown",
   "metadata": {},
   "source": [
    "# Using Meeshkan for developing Kaggle kernels\n",
    "For a full example of how to, for example, submit kernels from the command-line, see the example page in [GitHub](https://github.com/Meeshkan/meeshkan-client/tree/kaggle-kernel-example/examples/kaggle)."
   ]
  },
  {
   "cell_type": "markdown",
   "metadata": {},
   "source": [
    "### Install dependencies"
   ]
  },
  {
   "cell_type": "code",
   "execution_count": null,
   "metadata": {},
   "outputs": [],
   "source": [
    "!pip install keras tensorflow meeshkan pandas scikit-learn"
   ]
  },
  {
   "cell_type": "code",
   "execution_count": null,
   "metadata": {},
   "outputs": [],
   "source": [
    "import os\n",
    "import meeshkan\n",
    "import keras\n",
    "import pandas as pd\n",
    "import sklearn\n",
    "import matplotlib.pyplot as plt\n",
    "%matplotlib inline\n",
    "from sklearn.model_selection import GridSearchCV\n",
    "from sklearn.svm import SVC\n",
    "import numpy as np\n",
    "from sklearn.model_selection import cross_val_score\n",
    "from sklearn.metrics import accuracy_score, precision_score, make_scorer"
   ]
  },
  {
   "cell_type": "markdown",
   "metadata": {},
   "source": [
    "Check that datasources are correctly linked:"
   ]
  },
  {
   "cell_type": "code",
   "execution_count": null,
   "metadata": {},
   "outputs": [],
   "source": [
    "print(os.listdir(\"../input\"))"
   ]
  },
  {
   "cell_type": "markdown",
   "metadata": {},
   "source": [
    "### Setting up Meeshkan"
   ]
  },
  {
   "cell_type": "markdown",
   "metadata": {},
   "source": [
    "To use Meeshkan, you need to \n",
    "1. register at [meeshkan.com](https://meeshkan.com) and get our API key\n",
    "1. setup Slack integration as instructed in the [docs](https://www.meeshkan.com/docs)\n",
    "1. initialize the credentials and start the agent.\n",
    "\n",
    "The second step can be achieved with the `meeshkan.init(token=YOUR_API_KEY)` command. **Make sure to replace the example API key below with your own key!**"
   ]
  },
  {
   "cell_type": "code",
   "execution_count": null,
   "metadata": {},
   "outputs": [],
   "source": [
    "meeshkan.init(token=\"meVLHpGVcpG1QI2jTo1VLJpv96ZRTijCROaj4CQSU1IMQ\")  # REPLACE THIS WITH YOUR API_KEY"
   ]
  },
  {
   "cell_type": "markdown",
   "metadata": {},
   "source": [
    "Meeshkan agent can be used to schedule multiple machine learning jobs, but as we're just running stuff sequentially, we can simply use the [as_blocking_job](https://meeshkan-client.readthedocs.io/en/latest/#meeshkan.as_blocking_job) decorator to group runs as jobs. Execute the cell below to ensure you get Slack notifications."
   ]
  },
  {
   "cell_type": "code",
   "execution_count": null,
   "metadata": {},
   "outputs": [],
   "source": [
    "import time\n",
    "@meeshkan.as_blocking_job(job_name=\"test-job\", report_interval_secs=10)\n",
    "def train():\n",
    "    for i in range(10):\n",
    "        meeshkan.report_scalar(\"counter\", i)\n",
    "        time.sleep(2)\n",
    "        \n",
    "train()"
   ]
  },
  {
   "cell_type": "markdown",
   "metadata": {},
   "source": [
    "If everything works as expected, we can get rocking with machine learning!"
   ]
  },
  {
   "cell_type": "markdown",
   "metadata": {},
   "source": [
    "### Run your job"
   ]
  },
  {
   "cell_type": "markdown",
   "metadata": {},
   "source": [
    "To keep this demo as simple as possible, we will only use the `Age` column to try and predict `AdoptionSpeed`. First load data and peek into first rows:"
   ]
  },
  {
   "cell_type": "code",
   "execution_count": null,
   "metadata": {},
   "outputs": [],
   "source": [
    "train_df = pd.read_csv(\"../input/train/train.csv\")\n",
    "train_df.head()"
   ]
  },
  {
   "cell_type": "markdown",
   "metadata": {},
   "source": [
    "Check what the columns look like:"
   ]
  },
  {
   "cell_type": "code",
   "execution_count": null,
   "metadata": {},
   "outputs": [],
   "source": [
    "train_df.info()"
   ]
  },
  {
   "cell_type": "markdown",
   "metadata": {},
   "source": [
    "Let us check how `Age` compares to `AdoptionSpeed`:"
   ]
  },
  {
   "cell_type": "code",
   "execution_count": null,
   "metadata": {},
   "outputs": [],
   "source": [
    "train_df.plot(x=\"Age\", y=\"AdoptionSpeed\", kind=\"scatter\")"
   ]
  },
  {
   "cell_type": "markdown",
   "metadata": {},
   "source": [
    "Obviously the correlation is not very good and age of zero should be taken into account."
   ]
  },
  {
   "cell_type": "code",
   "execution_count": null,
   "metadata": {},
   "outputs": [],
   "source": [
    "TRAIN_COLUMNS = ['Age']\n",
    "\n",
    "X_train = train_df[TRAIN_COLUMNS].values\n",
    "y_train = train_df['AdoptionSpeed'].values"
   ]
  },
  {
   "cell_type": "code",
   "execution_count": null,
   "metadata": {},
   "outputs": [],
   "source": [
    "def build_grid_search(pipeline, param_grid):\n",
    "    return GridSearchCV(pipeline, param_grid, cv=5, return_train_score=True, refit='accuracy',\n",
    "                        scoring={ 'accuracy': make_scorer(accuracy_score),\n",
    "                                  'precision': make_scorer(precision_score)\n",
    "                                },\n",
    "                        verbose=1)\n",
    "\n",
    "@meeshkan.as_blocking_job(job_name=\"grid-search\", report_interval_secs=60)\n",
    "def run_grid_search(grid_search):\n",
    "    grid_search.fit(X_train, y_train)\n",
    "    # print('Best test score accuracy is:', grid_search.best_score_)\n",
    "    return pretty_cv_results(grid_search.cv_results_)"
   ]
  },
  {
   "cell_type": "code",
   "execution_count": null,
   "metadata": {},
   "outputs": [],
   "source": [
    "param_grid = [\n",
    "    { \n",
    "        'preprocessing__truncate_titles__n_values_to_keep': [5],\n",
    "        'classifier': [ SVC(random_state=42, probability=True) ], # Probability to use in voting later\n",
    "        'classifier__C': np.logspace(-1, 1, 3),\n",
    "        'classifier__kernel': ['linear', 'poly', 'rbf'],\n",
    "        'classifier__gamma': ['auto', 'scale']\n",
    "    }\n",
    "]\n",
    "\n",
    "pipeline = ([\n",
    "        ('classifier', None) # Expected to be filled by grid search\n",
    "    ])\n",
    "\n",
    "svm_grid_search = build_grid_search(pipeline=pipeline, param_grid=param_grid)\n",
    "svm_cv_results = run_grid_search(grid_search=svm_grid_search)"
   ]
  },
  {
   "cell_type": "markdown",
   "metadata": {},
   "source": [
    "### Teardown"
   ]
  },
  {
   "cell_type": "markdown",
   "metadata": {},
   "source": [
    "Finally we stop the Meeshkan agent cleanly:"
   ]
  },
  {
   "cell_type": "code",
   "execution_count": null,
   "metadata": {},
   "outputs": [],
   "source": [
    "meeshkan.stop()"
   ]
  }
 ],
 "metadata": {
  "kernelspec": {
   "display_name": "Python 3",
   "language": "python",
   "name": "python3"
  },
  "language_info": {
   "codemirror_mode": {
    "name": "ipython",
    "version": 3
   },
   "file_extension": ".py",
   "mimetype": "text/x-python",
   "name": "python",
   "nbconvert_exporter": "python",
   "pygments_lexer": "ipython3",
   "version": "3.6.5"
  }
 },
 "nbformat": 4,
 "nbformat_minor": 2
}
